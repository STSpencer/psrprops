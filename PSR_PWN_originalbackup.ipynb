{
 "cells": [
  {
   "cell_type": "markdown",
   "id": "8897d909",
   "metadata": {},
   "source": [
    "### Deriving pulsar properties from PWNe - testing\n",
    "* Pair-production multiplicity via de Jager 2007 $<k> = \\frac{N_e({\\rm obs})}{2N_{GJ}}$\n",
    "* Initial spin-down period $P_0$ via van de Swaluw 2001 & the ratio $R_{pwn}/R_{snr}$\n",
    "* Relate $k$ to the fraction of hadronic particles present in the PWN (and hence hadronic emission component) "
   ]
  },
  {
   "cell_type": "code",
   "execution_count": 1,
   "id": "31b3d4b6",
   "metadata": {},
   "outputs": [],
   "source": [
    "import numpy as np\n",
    "import astropy.units as u\n",
    "from astropy import constants as c\n",
    "import matplotlib.pyplot as plt\n",
    "from psrqpy import QueryATNF\n",
    "\n",
    "\n",
    "%matplotlib inline"
   ]
  },
  {
   "cell_type": "code",
   "execution_count": 3,
   "id": "a91aa1fc",
   "metadata": {},
   "outputs": [],
   "source": [
    "# Choose parameters from ATNF (or query the whole database)\n",
    "query = QueryATNF() #params=['Edot','age',\"dist\",\"P0\",\"P1\",\"BINARY\"])"
   ]
  },
  {
   "cell_type": "code",
   "execution_count": 4,
   "id": "69ef1ba9",
   "metadata": {},
   "outputs": [],
   "source": [
    "# Convert them to PANDAS\n",
    "table = query.table\n",
    "table = table.to_pandas()\n",
    "\n",
    "age_all = table[\"AGE\"]\n",
    "edot_all = table[\"EDOT\"]\n",
    "dist = table[\"DIST\"]\n",
    "period = table[\"P0\"]\n",
    "pdot = table[\"P1\"]\n",
    "\n",
    "# Compute beam fraction correction\n",
    "beam_fraction = 9 * np.power(np.log10((period)/10), 2) + 3\n",
    "beam_fraction /= 100\n",
    "\n",
    "# Selection to remove milli-second pulsars\n",
    "sel = np.logical_and(np.invert(np.isnan(age_all)), np.invert(np.isnan(edot_all)))\n",
    "sel = np.logical_and(sel, dist < 25) #within the Milky Way\n",
    "sel = np.logical_and(sel, period > 0.01)\n",
    "sel = np.logical_and(sel, pdot > 1e-18)\n",
    "sel = np.logical_and(sel, age_all < 1e7)\n",
    "\n",
    "#print(max(age))\n",
    "#Now apply selection mask \n",
    "age = age_all[sel]\n",
    "\n",
    "edot = edot_all[sel]\n",
    "beam_fraction = beam_fraction[sel]"
   ]
  },
  {
   "cell_type": "markdown",
   "id": "d0276f90",
   "metadata": {},
   "source": [
    "### Pair-production mutiplicity\n",
    "1) Use Halo paper results for known HESS PWNe to obtain $N_e$ via observations \n",
    "* i.e. use energy densities provided and properties of the assumed electron spectrum \n",
    "* Note: $E_{\\rm min} = 100$GeV, $E_{\\rm max}=1,3,10$TeV and $\\Gamma = 2.2$\n",
    "\n",
    "2) Use ATNF catalogue to obtain $N_{GJ}$ for the same pulsars via known properties\n",
    "* see also eqn(2) of de Jager for the simplified version of $\\dot{E}$\n"
   ]
  },
  {
   "cell_type": "code",
   "execution_count": 5,
   "id": "b42fea2e",
   "metadata": {},
   "outputs": [],
   "source": [
    "import pandas as pd\n",
    "\n",
    "df = pd.read_csv(\"Halos/table_pulsars.txt\",sep=\"\\t\")"
   ]
  },
  {
   "cell_type": "code",
   "execution_count": 6,
   "id": "2714da01",
   "metadata": {},
   "outputs": [
    {
     "data": {
      "text/plain": [
       "Index(['Name', 'Edot [erg/s]', 'Size [pc]', 'Distance [kpc]', 'Age [kyr]',\n",
       "       'Total_E [erg]', 'Volume [cm^3]', 'Edens [eV/cm^]',\n",
       "       'mean_edens [eV/cm^]', 'min_edens [eV/cm^]', 'max_edens [eV/cm^]'],\n",
       "      dtype='object')"
      ]
     },
     "execution_count": 6,
     "metadata": {},
     "output_type": "execute_result"
    }
   ],
   "source": [
    "df.columns"
   ]
  },
  {
   "cell_type": "code",
   "execution_count": 8,
   "id": "47c4d6bc",
   "metadata": {},
   "outputs": [],
   "source": [
    "#These are the ATNF names in order corresponding to the order of pulsars in the table from the halos paper\n",
    "atnf_names = np.array([\"J0659+1414\",\"J0633+1746\",\"J1813-1749\",\"J1833-1034\",\"J1513-5908\",\"J1930+1852\",\"J1420-6048\",\n",
    "                       \"J1849-0001\",\"J1846-0258\",\"J0835-4510\",\"J1838-0655\",\"J1418-6058\",\"J1357-6429\",\"J1826-1334\",\n",
    "                       \"J1119-6127\",\"J1301-6305\",\"J0534+2200\",\"J1747-2809\",\"J0205+6449\",\"J0007+7303\",\"J1617-5055\",\n",
    "                       \"J1023-5746\",\"J1811-1925\",\"J1856+0245\",\"J1640-4631\",\"J1640-4631\",\"J1709-4429\",\"J1907+0602\",\n",
    "                       \"J1016-5857\",\"J1016-5857\",\"J1803-2137\",\"J1809-1917\",\"J1617-5055\",\"J1718-3825\",\"J1028-5819\",\n",
    "                       \"J1833-0827\",\"J1833-0827\",\"J1857+0143\"])"
   ]
  },
  {
   "cell_type": "code",
   "execution_count": 10,
   "id": "b98197e0",
   "metadata": {},
   "outputs": [
    {
     "name": "stdout",
     "output_type": "stream",
     "text": [
      "(array([268]),)\n"
     ]
    }
   ],
   "source": [
    "# print(df['Name'])\n",
    "#Test: where is Geminga in the ATNF? \n",
    "print(np.where(query[\"NAME\"]==\"J0633+1746\"))"
   ]
  },
  {
   "cell_type": "code",
   "execution_count": 11,
   "id": "2c41c4fc",
   "metadata": {},
   "outputs": [
    {
     "name": "stdout",
     "output_type": "stream",
     "text": [
      "[0.38492862 0.23709944 0.04469931 0.06188365 0.15158194 0.13685505\n",
      " 0.06817988 0.03852259 0.32657129 0.08932839 0.07049824 0.11057301\n",
      " 0.16610833 0.10148679 0.40796298 0.1845281  0.03339241 0.05215285\n",
      " 0.06571593 0.31587319 0.06935685 0.11147243 0.064667   0.08090669\n",
      " 0.20644305 0.20644305 0.10245925 0.10663275 0.10738646 0.10738646\n",
      " 0.13366692 0.08275527 0.06935685 0.07466992 0.09140323 0.08528815\n",
      " 0.08528815 0.13976006]\n"
     ]
    }
   ],
   "source": [
    "#Obtain period and pdot from ATNF\n",
    "\n",
    "period_atnf = np.zeros(len(df))\n",
    "pdot_atnf = np.zeros(len(df))\n",
    "\n",
    "for i in range(len(df)):\n",
    "    psr_idx = np.where(query[\"NAME\"]==atnf_names[i])[0][0]\n",
    "    \n",
    "    period_atnf[i] = period[psr_idx]\n",
    "    pdot_atnf[i] = pdot[psr_idx]\n",
    "    \n",
    "print(period_atnf)"
   ]
  },
  {
   "cell_type": "code",
   "execution_count": 15,
   "id": "3596da7b",
   "metadata": {},
   "outputs": [],
   "source": [
    "#Define properties of electron spectrum as per the halos paper\n",
    "E0 = 1. *u.TeV\n",
    "E2 = 10. *u.TeV #1, 3 or 10\n",
    "E1 = 0.1 *u.TeV\n",
    "Gam = 2.2\n",
    "\n",
    "pow2 = 2-Gam\n",
    "integral2 = ((E2)**pow2 - (E1)**pow2)/(pow2*E0**(1-Gam))\n",
    "\n",
    "#Integration constant is total energy (from halos paper) divided by electron spectrum integral\n",
    "k_intconst = df[\"Total_E [erg]\"]*u.erg / integral2"
   ]
  },
  {
   "cell_type": "code",
   "execution_count": 16,
   "id": "70dd94b6",
   "metadata": {},
   "outputs": [
    {
     "data": {
      "text/latex": [
       "$4.7696792 \\; \\mathrm{TeV^{1}}$"
      ],
      "text/plain": [
       "<Quantity 4.76967924 TeV1>"
      ]
     },
     "execution_count": 16,
     "metadata": {},
     "output_type": "execute_result"
    }
   ],
   "source": [
    "integral2"
   ]
  },
  {
   "cell_type": "code",
   "execution_count": 19,
   "id": "eb89ad35",
   "metadata": {},
   "outputs": [],
   "source": [
    "pow1 = 1-Gam\n",
    "integral = ((E2/E0)**pow1 - (E1/E0)**pow1)/pow1\n",
    "\n",
    "Nel = k_intconst*integral\n",
    "#Number of electrons derived from observations\n",
    "# print(Nel)"
   ]
  },
  {
   "cell_type": "code",
   "execution_count": 20,
   "id": "f3f1c8b1",
   "metadata": {},
   "outputs": [],
   "source": [
    "#for convenience\n",
    "yr_to_s = (1. * u.yr).to(u.s)"
   ]
  },
  {
   "cell_type": "code",
   "execution_count": 22,
   "id": "f8aebadf",
   "metadata": {},
   "outputs": [],
   "source": [
    "#Edot and age as used in halos paper: \n",
    "edot = np.zeros(len(df))\n",
    "age_halo = np.zeros(len(df))\n",
    "\n",
    "for i in range(len(df)):\n",
    "#     print(i)\n",
    "    edot[i] = df[\"Edot [erg/s]\"][i] \n",
    "    age_halo[i] = df[\"Age [kyr]\"][i]\n",
    "    \n",
    "\n",
    "edot *= u.erg / u.s\n",
    "age_halo *= u.kyr\n",
    "# print(age_halo)"
   ]
  },
  {
   "cell_type": "code",
   "execution_count": 24,
   "id": "eba3dfda",
   "metadata": {},
   "outputs": [
    {
     "data": {
      "text/latex": [
       "$4.8032047 \\times 10^{-10} \\; \\mathrm{Fr}$"
      ],
      "text/plain": [
       "<<class 'astropy.constants.codata2018.EMCODATA2018'> name='Electron charge' value=4.803204712570263e-10 uncertainty=0.0 unit='Fr' reference='CODATA 2018'>"
      ]
     },
     "execution_count": 24,
     "metadata": {},
     "output_type": "execute_result"
    }
   ],
   "source": [
    "#Just checking:\n",
    "c.e.gauss"
   ]
  },
  {
   "cell_type": "code",
   "execution_count": 25,
   "id": "764e9167",
   "metadata": {},
   "outputs": [],
   "source": [
    "#Calculate age as a function of P0\n",
    "\n",
    "def age_p0(psr_period,psr_pdot,p0=0.01*u.s,n=3):\n",
    "    \n",
    "    brk = n-1\n",
    "    argp = p0/(psr_period*u.s)\n",
    "    tau_age = 1. - argp**brk\n",
    "    tau_age *= (psr_period*u.s)/(brk*psr_pdot)\n",
    "    \n",
    "    return tau_age.to(u.yr)"
   ]
  },
  {
   "cell_type": "code",
   "execution_count": 26,
   "id": "a8867211",
   "metadata": {},
   "outputs": [
    {
     "name": "stdout",
     "output_type": "stream",
     "text": [
      "[0.01 0.02 0.03 0.04 0.05 0.06 0.07 0.08 0.09 0.1  0.11 0.12 0.13 0.14\n",
      " 0.15] s\n"
     ]
    }
   ],
   "source": [
    "#Range of initial spin periods \n",
    "test_p0 = np.linspace(0.01,0.15,15)*u.s\n",
    "print(test_p0)"
   ]
  },
  {
   "cell_type": "code",
   "execution_count": 27,
   "id": "50a19e1f",
   "metadata": {},
   "outputs": [],
   "source": [
    "#Calculate N_GJ integral\n",
    "\n",
    "def calc_ngj(edot_pwn,age_pwn):\n",
    "    \n",
    "    ngj_integrand = (6. * c.c * edot_pwn)**0.5 \n",
    "    ngj_integrand /= c.e.gauss\n",
    "    ngj_out = ngj_integrand.to(1./u.s)*age_pwn.to(u.s)\n",
    "        \n",
    "    return ngj_out#.to(1.)"
   ]
  },
  {
   "cell_type": "code",
   "execution_count": 28,
   "id": "7ed05a35",
   "metadata": {},
   "outputs": [],
   "source": [
    "tau_test = age_p0(period_atnf,pdot_atnf,test_p0[0])"
   ]
  },
  {
   "cell_type": "code",
   "execution_count": 29,
   "id": "42d0c963",
   "metadata": {},
   "outputs": [],
   "source": [
    "ngj = calc_ngj(edot_pwn=edot,age_pwn=tau_test)"
   ]
  },
  {
   "cell_type": "code",
   "execution_count": 30,
   "id": "835822bf",
   "metadata": {},
   "outputs": [
    {
     "name": "stdout",
     "output_type": "stream",
     "text": [
      "6.027170882822084e+44 3.67051292499364e+47\n"
     ]
    }
   ],
   "source": [
    "print(ngj[0].to(1.),Nel[0])\n"
   ]
  },
  {
   "cell_type": "code",
   "execution_count": 31,
   "id": "b0e063f6",
   "metadata": {},
   "outputs": [],
   "source": [
    "# Pair-production multiplicity factor:\n",
    "k_multi = Nel / (2.*ngj) "
   ]
  },
  {
   "cell_type": "code",
   "execution_count": 33,
   "id": "9a1d768d",
   "metadata": {},
   "outputs": [],
   "source": [
    "i=0\n",
    "tau_p0 = age_p0(period_atnf[i],pdot_atnf[i],test_p0)\n",
    "# print(tau_p0)"
   ]
  },
  {
   "cell_type": "code",
   "execution_count": 35,
   "id": "32633e69",
   "metadata": {},
   "outputs": [],
   "source": [
    "ngj_p0 = calc_ngj(edot_pwn=edot[i],age_pwn=tau_p0)\n",
    "# print(ngj_p0)"
   ]
  },
  {
   "cell_type": "code",
   "execution_count": 37,
   "id": "7f460898",
   "metadata": {},
   "outputs": [
    {
     "name": "stdout",
     "output_type": "stream",
     "text": [
      "J0659+1414 p= 0.3849286233650379 15\n",
      "J0633+1746 p= 0.2370994416922568 15\n",
      "J1813-1749 p= 0.044699305261405566 4\n",
      "J1833-1034 p= 0.06188365001063282 6\n",
      "J1513-5908 p= 0.15158194339345915 15\n",
      "J1930+1852 p= 0.136855046957 13\n",
      "J1420-6048 p= 0.06817987659 6\n",
      "J1849-0001 p= 0.038522586319205 3\n",
      "J1846-0258 p= 0.3265712883437141 15\n",
      "J0835-4510 p= 0.08932838502359318 8\n"
     ]
    },
    {
     "data": {
      "image/png": "[encoded data removed]",
      "text/plain": [
       "<Figure size 432x432 with 1 Axes>"
      ]
     },
     "metadata": {
      "needs_background": "light"
     },
     "output_type": "display_data"
    }
   ],
   "source": [
    "plt.figure(figsize=(6,6))\n",
    "\n",
    "#Now plot how the pair-production multiplicity varies with P0. \n",
    "\n",
    "#Only first 10 in df, as len(df) is a crowded plot\n",
    "for i in range(10):#len(df)):\n",
    "    \n",
    "    tau_p0 = age_p0(period_atnf[i],pdot_atnf[i],test_p0)\n",
    "    ngj_p0 = calc_ngj(edot[i],tau_p0)\n",
    "\n",
    "    k_p0 = Nel[i] / (2.*ngj_p0)\n",
    "    mask = test_p0 < period_atnf[i]*u.s\n",
    "    print(atnf_names[i],\"p=\",period_atnf[i],sum(mask))\n",
    "    plt.plot(test_p0[mask],k_p0[mask],label=atnf_names[i])\n",
    "    \n",
    "plt.semilogy()\n",
    "plt.ylim(100.,1e6)\n",
    "plt.xlim(0.0,0.16)\n",
    "plt.ylabel(\"Pair Production Multiplicity\",fontsize=12)\n",
    "plt.xlabel(\"Birth Period (s)\",fontsize=12)\n",
    "plt.legend(fontsize=12)\n",
    "\n",
    "None"
   ]
  },
  {
   "cell_type": "code",
   "execution_count": 38,
   "id": "9c1a9579",
   "metadata": {},
   "outputs": [
    {
     "data": {
      "text/plain": [
       "[]"
      ]
     },
     "execution_count": 38,
     "metadata": {},
     "output_type": "execute_result"
    },
    {
     "data": {
      "image/png": "[encoded data removed]",
      "text/plain": [
       "<Figure size 432x288 with 1 Axes>"
      ]
     },
     "metadata": {
      "needs_background": "light"
     },
     "output_type": "display_data"
    }
   ],
   "source": [
    "plt.plot(edot,k_multi,\"o\")\n",
    "plt.semilogx()\n",
    "plt.semilogy()"
   ]
  },
  {
   "cell_type": "code",
   "execution_count": 39,
   "id": "801bb019",
   "metadata": {},
   "outputs": [],
   "source": [
    "# query.ppdot(showSNRs=True, showtypes='all')"
   ]
  },
  {
   "cell_type": "markdown",
   "id": "12283cca",
   "metadata": {},
   "source": [
    "### Maximum particle energy\n",
    "From Emma et al. 2022 eqn (3):\n",
    "Maximum energy as a function of spin-down power only\n",
    "and eqn (4) - maximum gamma-ray energy based on electrons"
   ]
  },
  {
   "cell_type": "code",
   "execution_count": 40,
   "id": "76768462",
   "metadata": {},
   "outputs": [],
   "source": [
    "#Equation 3\n",
    "def Emax(Edot_psr,eta_e=1.,eta_b=1.):\n",
    "    Edot_ref = 1e36*u.erg/u.s\n",
    "    \n",
    "    E_max = 2.*u.PeV * eta_e * eta_b**0.5 * (Edot_psr/Edot_ref)**0.5\n",
    "    \n",
    "    return E_max\n",
    "\n",
    "#Equation 4\n",
    "def Emax_gammae(Edot_psr,eta_e=1.,eta_b=1.):\n",
    "    Edot_ref = 1e36*u.erg/u.s\n",
    "    \n",
    "    E_max = 0.9*u.PeV * eta_e**1.3 * eta_b**0.65 * (Edot_psr/Edot_ref)**0.65\n",
    "    \n",
    "    return E_max"
   ]
  },
  {
   "cell_type": "code",
   "execution_count": 41,
   "id": "7978d9cf",
   "metadata": {},
   "outputs": [],
   "source": [
    "Emax_psr = Emax(edot)\n",
    "Emax_psrGamE = Emax_gammae(edot)\n",
    "\n",
    "Emax_Echeck = 2.15*Emax_psrGamE**0.77 "
   ]
  },
  {
   "cell_type": "code",
   "execution_count": 42,
   "id": "345dae2f",
   "metadata": {},
   "outputs": [
    {
     "data": {
      "image/png": "[encoded data removed]",
      "text/plain": [
       "<Figure size 432x288 with 1 Axes>"
      ]
     },
     "metadata": {
      "needs_background": "light"
     },
     "output_type": "display_data"
    }
   ],
   "source": [
    "plt.scatter(edot,Emax_psr)\n",
    "plt.semilogx()\n",
    "plt.semilogy()\n",
    "plt.xlabel(\"Spin-down Luminosity (erg/s)\")\n",
    "plt.ylabel(\"Maximum particle energy (PeV)\")\n",
    "\n",
    "None"
   ]
  },
  {
   "cell_type": "code",
   "execution_count": 43,
   "id": "c76abfe7",
   "metadata": {},
   "outputs": [
    {
     "data": {
      "image/png": "[encoded data removed]",
      "text/plain": [
       "<Figure size 432x288 with 1 Axes>"
      ]
     },
     "metadata": {
      "needs_background": "light"
     },
     "output_type": "display_data"
    }
   ],
   "source": [
    "#Check consistency of Emax expressions via ratio\n",
    "plt.scatter(edot,Emax_psr/Emax_Echeck)\n",
    "plt.semilogx()\n",
    "plt.ylim(0.96,1.04)\n",
    "\n",
    "None"
   ]
  },
  {
   "cell_type": "markdown",
   "id": "858ec8a9",
   "metadata": {},
   "source": [
    "### Initial spin period\n",
    "* Use eqn(6) of van der Swaluw - ratio of $R_{pwn}/R_{snr}$ can be obtained for e.g. table 1 of halo paper\n",
    " - doing this for the full table 2 will need a literature search\n",
    "* Current spin period via ATNF catalogue\n",
    "* Moment of inertia $I$ can be calculated, but $\\eta_1$ and $\\eta_3$ need to be assumed. \n",
    "\n",
    "\n",
    "Problem: $E_0$ - feels dangerous to assume this. \n",
    "\n",
    "Determine dependency of $P_0$ on assumed $E_0$? Or could assume a standard evolution of $\\dot{E}$ towards present day values. "
   ]
  },
  {
   "cell_type": "code",
   "execution_count": 44,
   "id": "2493aace",
   "metadata": {},
   "outputs": [],
   "source": [
    "#Expression for P0 from ratio based on van de Swaluw et al. \n",
    "\n",
    "def P0(R_pwn,R_snr,P_t,E0=1e51*u.erg,I=1.4e45*u.g*u.cm**2):\n",
    "    eta_1 = 1.0\n",
    "    eta_3 = 1.02\n",
    "    R_ratio = R_pwn/(eta_3*R_snr)\n",
    "    P_ratio = 2.*np.pi/P_t\n",
    "    \n",
    "    EI_term = 2.*E0 / (eta_1*I)\n",
    "#     print(EI_term.to(1./u.s**2))\n",
    "    \n",
    "    P0 = (EI_term*R_ratio**3. + P_ratio**2)**-0.5\n",
    "    P0 *= 2*np.pi\n",
    "    \n",
    "    return P0.to(u.s)"
   ]
  },
  {
   "cell_type": "code",
   "execution_count": 45,
   "id": "33744e8d",
   "metadata": {},
   "outputs": [],
   "source": [
    "# atnf_names"
   ]
  },
  {
   "cell_type": "code",
   "execution_count": 46,
   "id": "22174b16",
   "metadata": {},
   "outputs": [],
   "source": [
    "#Reduced selection of PWNe (table 1 of halo paper)\n",
    "Ratnf = ['J0534+2200','J1513-5908','J1833-1034','J1747-2809','J0835-4510','J1826-1334']#add J1825, Geminga\n",
    "Rsnr = [2.8,38.4,2.98,19.8,19.5,120.]*u.pc #Assume Crab SNR size = PWN size\n",
    "Rpwn = [2.8,19.2,0.8,2.5,12.2,20.]*u.pc #making a guess for J1825"
   ]
  },
  {
   "cell_type": "code",
   "execution_count": 47,
   "id": "60ce503c",
   "metadata": {},
   "outputs": [
    {
     "name": "stdout",
     "output_type": "stream",
     "text": [
      "[0.03339241 0.15158194 0.06188365 0.05215285 0.08932839 0.10148679]\n"
     ]
    }
   ],
   "source": [
    "Patnf = np.zeros(len(Ratnf))\n",
    "\n",
    "for i in range(len(Ratnf)):\n",
    "    index = np.where(atnf_names==Ratnf[i])[0][0]\n",
    "    Patnf[i] = period_atnf[index]\n",
    "\n",
    "print(Patnf)"
   ]
  },
  {
   "cell_type": "code",
   "execution_count": 48,
   "id": "1094f0ef",
   "metadata": {},
   "outputs": [],
   "source": [
    "P_0 = P0(Rpwn,Rsnr,Patnf*u.s)"
   ]
  },
  {
   "cell_type": "code",
   "execution_count": 49,
   "id": "aa901070",
   "metadata": {},
   "outputs": [
    {
     "name": "stdout",
     "output_type": "stream",
     "text": [
      "[0.16008259 0.10053579 0.53251237 0.91797585 0.12159543 0.61710181]\n"
     ]
    }
   ],
   "source": [
    "# print(P_0,Patnf)\n",
    "#Ratio of P0 derived to current period in ATNF:\n",
    "print(P_0 / (Patnf*u.s))"
   ]
  },
  {
   "cell_type": "markdown",
   "id": "eab73bfa",
   "metadata": {},
   "source": [
    "Now we have both $k$ as a function of $P_0$, for all pulsars/pwne considered in the halos paper, and constraints on $P_0$ for a subset of pwne for which we have more information (e.g. table 1 of the halos paper). \n",
    "\n",
    "Dashed lines below indicate the evaluated $P_0$ from the radius ratio. \n",
    "Where the lines of the same colour intersect, this gives the pair-production multiplicity for that PWN. \n"
   ]
  },
  {
   "cell_type": "code",
   "execution_count": 50,
   "id": "a778a2b8",
   "metadata": {},
   "outputs": [
    {
     "name": "stdout",
     "output_type": "stream",
     "text": [
      "J0534+2200 p= 0.033392412302258895 P0= 0.00534554380051773 s 3\n",
      "J1513-5908 p= 0.15158194339345915 P0= 0.015239410525787624 s 15\n",
      "J1833-1034 p= 0.06188365001063282 P0= 0.032953808907644225 s 6\n",
      "J1747-2809 p= 0.052152855 P0= 0.04787506158892769 s 5\n",
      "J0835-4510 p= 0.08932838502359318 P0= 0.010861923156129938 s 8\n",
      "J1826-1334 p= 0.10148679420759428 P0= 0.06262768489185835 s 10\n"
     ]
    },
    {
     "data": {
      "image/png": "[encoded data removed]",
      "text/plain": [
       "<Figure size 432x288 with 1 Axes>"
      ]
     },
     "metadata": {
      "needs_background": "light"
     },
     "output_type": "display_data"
    }
   ],
   "source": [
    "#Add these derived P0s to the plot above of k vs P0. \n",
    "\n",
    "for index in range(len(Ratnf)):#len(df)):\n",
    "\n",
    "    i = np.where(atnf_names==Ratnf[index])[0][0]\n",
    "    tau_p0 = age_p0(period_atnf[i],pdot_atnf[i],test_p0)\n",
    "    ngj_p0 = calc_ngj(edot[i],tau_p0)\n",
    "\n",
    "    k_p0 = Nel[i] / (2.*ngj_p0)\n",
    "    mask = test_p0 < period_atnf[i]*u.s\n",
    "    print(Ratnf[index],\"p=\",period_atnf[i],\"P0=\",P_0[index],sum(mask))\n",
    "    p = plt.plot(test_p0[mask],k_p0[mask],label=Ratnf[index])\n",
    "    plt.vlines(P_0[index].value,ymin=100.,ymax=1e6,linestyle='--',color=p[0].get_color())\n",
    "    \n",
    "plt.semilogy()\n",
    "plt.ylim(100.,1e6)\n",
    "plt.xlim(0.0,0.16)\n",
    "plt.ylabel(\"Pair Production Multiplicity\",fontsize=12)\n",
    "plt.xlabel(\"Birth Period (s)\",fontsize=12)\n",
    "plt.legend(fontsize=12,loc=4)\n",
    "plt.axhline(y=2*c.m_p/c.m_e,color='k',linestyle=':')\n",
    "\n",
    "None"
   ]
  },
  {
   "cell_type": "code",
   "execution_count": 51,
   "id": "37763644",
   "metadata": {},
   "outputs": [
    {
     "data": {
      "text/latex": [
       "$3672.3053 \\; \\mathrm{}$"
      ],
      "text/plain": [
       "<Quantity 3672.30534688>"
      ]
     },
     "execution_count": 51,
     "metadata": {},
     "output_type": "execute_result"
    }
   ],
   "source": [
    "2*c.m_p/c.m_e"
   ]
  },
  {
   "cell_type": "markdown",
   "id": "eee41fbc",
   "metadata": {},
   "source": [
    "The desired pair-production multiplicity for hadrons from the pulsar surface to reach the PWN is that \n",
    "$k \\lesssim 2m_p/m_e = 3672 $ which is given by the horizontal dotted line. \n",
    "\n",
    "We can therefore exclude the PWNe studied here as being systems in which that could have happened, with the possible exception of Vela and J1825-137. "
   ]
  },
  {
   "cell_type": "code",
   "execution_count": null,
   "id": "efe05615",
   "metadata": {},
   "outputs": [],
   "source": []
  }
 ],
 "metadata": {
  "kernelspec": {
   "display_name": "Python 3 (ipykernel)",
   "language": "python",
   "name": "python3"
  },
  "language_info": {
   "codemirror_mode": {
    "name": "ipython",
    "version": 3
   },
   "file_extension": ".py",
   "mimetype": "text/x-python",
   "name": "python",
   "nbconvert_exporter": "python",
   "pygments_lexer": "ipython3",
   "version": "3.10.13"
  }
 },
 "nbformat": 4,
 "nbformat_minor": 5
}
