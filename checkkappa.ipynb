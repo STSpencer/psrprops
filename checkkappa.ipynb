{
 "cells": [
  {
   "cell_type": "markdown",
   "id": "6a8e4a81",
   "metadata": {},
   "source": [
    "### Deriving pulsar properties from PWNe - testing\n",
    "* Pair-production multiplicity via de Jager 2007 $<k> = \\frac{N_e({\\rm obs})}{2N_{GJ}}$\n",
    "* Initial spin-down period $P_0$ via van de Swaluw 2001 & the ratio $R_{pwn}/R_{snr}$\n",
    "* Relate $k$ to the fraction of hadronic particles present in the PWN (and hence hadronic emission component) "
   ]
  },
  {
   "cell_type": "code",
   "execution_count": 1,
   "id": "a5bcdb84",
   "metadata": {
    "tags": []
   },
   "outputs": [],
   "source": [
    "import numpy as np\n",
    "import astropy.units as u\n",
    "from astropy import constants as c\n",
    "import matplotlib.pyplot as plt\n",
    "from psrqpy import QueryATNF\n",
    "import matplotlib.pylab as pylab\n",
    "from cycler import cycler\n",
    "from itertools import cycle\n",
    "from scipy.integrate import simps\n",
    "from matplotlib.pyplot import cm\n",
    "import tabulate\n",
    "\n",
    "params = {'legend.fontsize': 'xx-large',\n",
    "         'axes.labelsize': 'xx-large',\n",
    "          'axes.titlesize':'xx-large',\n",
    "          'xtick.labelsize':'xx-large',\n",
    "          'ytick.labelsize':'xx-large'}\n",
    "\n",
    "pylab.rcParams.update(params)\n",
    "plt.style.use('tableau-colorblind10')\n",
    "\n",
    "%matplotlib inline"
   ]
  },
  {
   "cell_type": "code",
   "execution_count": 2,
   "id": "f3bc24e3",
   "metadata": {},
   "outputs": [],
   "source": [
    "# Choose parameters from ATNF (or query the whole database)\n",
    "query = QueryATNF() #params=['Edot','age',\"dist\",\"P0\",\"P1\",\"BINARY\"])"
   ]
  },
  {
   "cell_type": "code",
   "execution_count": 3,
   "id": "cf6132a5",
   "metadata": {},
   "outputs": [],
   "source": [
    "# Convert them to PANDAS\n",
    "table = query.table\n",
    "table = table.to_pandas()\n",
    "\n",
    "age_all = table[\"AGE\"]\n",
    "edot_all = table[\"EDOT\"]\n",
    "dist = table[\"DIST\"]\n",
    "period = table[\"P0\"]\n",
    "pdot = table[\"P1\"]\n",
    "#fatnf = 2*np.pi/np.asarray(period)/u.s\n",
    "\n",
    "# Compute beam fraction correction\n",
    "beam_fraction = 9 * np.power(np.log10((period)/10), 2) + 3\n",
    "beam_fraction /= 100\n",
    "\n",
    "# Selection to remove milli-second pulsars\n",
    "sel = np.logical_and(np.invert(np.isnan(age_all)), np.invert(np.isnan(edot_all)))\n",
    "sel = np.logical_and(sel, dist < 25) #within the Milky Way\n",
    "sel = np.logical_and(sel, period > 0.01)\n",
    "sel = np.logical_and(sel, pdot > 1e-18)\n",
    "sel = np.logical_and(sel, age_all < 1e7)\n",
    "\n",
    "#print(max(age))\n",
    "#Now apply selection mask \n",
    "age_all = age_all[sel]\n",
    "\n",
    "edot_all = edot_all[sel]\n",
    "beam_fraction = beam_fraction[sel]\n",
    "#dist = dist[sel]\n",
    "#period = period[sel]\n",
    "#pdot = pdot[sel]"
   ]
  },
  {
   "cell_type": "markdown",
   "id": "de428f43",
   "metadata": {},
   "source": [
    "### Pair-production mutiplicity\n",
    "1) Use Halo paper results for known HESS PWNe to obtain $N_e$ via observations \n",
    "* i.e. use energy densities provided and properties of the assumed electron spectrum \n",
    "* Note: $E_{\\rm min} = 100$GeV, $E_{\\rm max}=1,3,10$TeV and $\\Gamma = 2.2$\n",
    "\n",
    "2) Use ATNF catalogue to obtain $N_{GJ}$ for the same pulsars via known properties\n",
    "* see also eqn(2) of de Jager for the simplified version of $\\dot{E}$\n"
   ]
  },
  {
   "cell_type": "code",
   "execution_count": 4,
   "id": "768079d1",
   "metadata": {},
   "outputs": [],
   "source": [
    "import pandas as pd\n",
    "\n",
    "df = pd.read_csv(\"Pulsar_PWNe_properties - table_pulsars.csv\")"
   ]
  },
  {
   "cell_type": "code",
   "execution_count": 5,
   "id": "6c99bdfd",
   "metadata": {},
   "outputs": [
    {
     "data": {
      "text/plain": [
       "Index(['Name', 'ATNF J name', 'Edot [erg/s]', 'Size [pc]', 'Distance [kpc]',\n",
       "       'Age [kyr]', 'Total_E [erg]', 'Volume [cm^3]', 'Edens [eV/cm^-3]',\n",
       "       'mean_edens [eV/cm^-3]', 'min_edens [eV/cm^-3]', 'max_edens [eV/cm^-3]',\n",
       "       'E_Threshold [TeV]', 'R_SNR [pc]', 'R_PWN [pc]', 'R_TeV [pc]',\n",
       "       'R_Xray [pc]', 'LHAASO E_gmax (PeV)', 'LHAASO E_emax (PeV)',\n",
       "       'Unnamed: 19', 'dN_e/dE', 'E_low [TeV]', 'E_0 [TeV]', 'E_max [TeV]',\n",
       "       'N_e [cm^-3]', 'Notes', 'Unnamed: 26'],\n",
       "      dtype='object')"
      ]
     },
     "execution_count": 5,
     "metadata": {},
     "output_type": "execute_result"
    }
   ],
   "source": [
    "df.columns"
   ]
  },
  {
   "cell_type": "code",
   "execution_count": 6,
   "id": "c2e6ee83",
   "metadata": {},
   "outputs": [
    {
     "name": "stdout",
     "output_type": "stream",
     "text": [
      "0       J0002+6216\n",
      "1       J0006+1834\n",
      "2       J0007+7303\n",
      "45      J0040+5716\n",
      "49      J0048+3412\n",
      "           ...    \n",
      "3335    J2325+6316\n",
      "3342    J2330-2005\n",
      "3345    J2337+6151\n",
      "3355    J2354+6155\n",
      "3358    J2355+2246\n",
      "Name: NAME, Length: 1244, dtype: object\n"
     ]
    }
   ],
   "source": [
    "#Obtain period and pdot from ATNF\n",
    "atnf_names=df['ATNF J name']\n",
    "\n",
    "period_atnf = np.zeros(len(df))\n",
    "pdot_atnf = np.zeros(len(df))\n",
    "print(table[\"NAME\"][sel])\n",
    "for i in range(len(df)):\n",
    "    psr_idx = np.where(table[\"NAME\"]==atnf_names[i])[0][0]\n",
    "    period_atnf[i] = period[psr_idx]\n",
    "    pdot_atnf[i] = pdot[psr_idx]\n"
   ]
  },
  {
   "cell_type": "code",
   "execution_count": 7,
   "id": "2b3b59ed",
   "metadata": {},
   "outputs": [
    {
     "name": "stdout",
     "output_type": "stream",
     "text": [
      "0       NaN\n",
      "1       NaN\n",
      "2     0.387\n",
      "3     0.388\n",
      "4     0.610\n",
      "5     0.894\n",
      "6     0.759\n",
      "7     0.501\n",
      "8     0.395\n",
      "9     0.470\n",
      "10    0.388\n",
      "11    0.759\n",
      "12    0.784\n",
      "13    0.396\n",
      "14    0.683\n",
      "15    0.694\n",
      "16      NaN\n",
      "17    0.170\n",
      "18      NaN\n",
      "19      NaN\n",
      "20    0.532\n",
      "21    0.742\n",
      "22      NaN\n",
      "23    0.492\n",
      "24    0.442\n",
      "25    0.442\n",
      "26    0.428\n",
      "27    0.587\n",
      "28    0.757\n",
      "29    0.757\n",
      "30    0.383\n",
      "31    0.383\n",
      "32      NaN\n",
      "33    0.389\n",
      "34    0.744\n",
      "35    0.388\n",
      "36    0.388\n",
      "37    0.492\n",
      "38      NaN\n",
      "39      NaN\n",
      "40    0.379\n",
      "41    0.379\n",
      "42      NaN\n",
      "43      NaN\n",
      "44      NaN\n",
      "45      NaN\n",
      "46      NaN\n",
      "47      NaN\n",
      "Name: E_Threshold [TeV], dtype: float64\n"
     ]
    }
   ],
   "source": [
    "#Define properties of electron spectrum as per the halos paper\n",
    "E0 = 1. *u.TeV\n",
    "E2 = 10. *u.TeV #1, 3 or 10\n",
    "#E1 = 0.1 *u.TeV\n",
    "E1 = df['E_Threshold [TeV]']*u.TeV\n",
    "Gam = 2.2\n",
    "\n",
    "pow2 = 2-Gam\n",
    "integral2 = ((E2)**pow2 - (E1)**pow2)/(pow2*E0**(1-Gam))\n",
    "\n",
    "#Integration constant is total energy (from halos paper) divided by electron spectrum integral\n",
    "print(df['E_Threshold [TeV]'])\n",
    "k_intconst = df[\"Total_E [erg]\"]*u.erg / integral2"
   ]
  },
  {
   "cell_type": "code",
   "execution_count": 8,
   "id": "9950a670",
   "metadata": {},
   "outputs": [
    {
     "name": "stdout",
     "output_type": "stream",
     "text": [
      "nan\n"
     ]
    }
   ],
   "source": [
    "pow1 = 1-Gam\n",
    "integral = ((E2/E0)**pow1 - (E1/E0)**pow1)/pow1\n",
    "\n",
    "Nel = k_intconst*integral\n",
    "#Number of electrons derived from observations\n",
    "print(Nel[0])"
   ]
  },
  {
   "cell_type": "code",
   "execution_count": 9,
   "id": "e603d3ea",
   "metadata": {},
   "outputs": [],
   "source": [
    "#for convenience\n",
    "yr_to_s = (1. * u.yr).to(u.s)"
   ]
  },
  {
   "cell_type": "code",
   "execution_count": 10,
   "id": "fad07ed0",
   "metadata": {},
   "outputs": [],
   "source": [
    "#Edot and age as used in halos paper: \n",
    "edot = np.zeros(len(df))\n",
    "age_halo = np.zeros(len(df))\n",
    "\n",
    "for i in range(len(df)):\n",
    "#     print(i)\n",
    "    edot[i] = df[\"Edot [erg/s]\"][i] \n",
    "    age_halo[i] = df[\"Age [kyr]\"][i]\n",
    "    \n",
    "\n",
    "edot *= u.erg / u.s\n",
    "age_halo *= u.kyr\n",
    "# print(age_halo)"
   ]
  },
  {
   "cell_type": "code",
   "execution_count": 11,
   "id": "3617774d",
   "metadata": {},
   "outputs": [],
   "source": [
    "#Calculate age as a function of P0\n",
    "\n",
    "def age_p0(psr_period,psr_pdot,p0=0.01*u.s,n=3):\n",
    "    \n",
    "    brk = n-1\n",
    "    argp = p0/(psr_period*u.s)\n",
    "    tau_age = 1. - argp**brk\n",
    "    tau_age *= (psr_period*u.s)/(brk*psr_pdot)\n",
    "    return tau_age.to(u.yr)"
   ]
  },
  {
   "cell_type": "code",
   "execution_count": 12,
   "id": "0b99545a",
   "metadata": {},
   "outputs": [
    {
     "name": "stdout",
     "output_type": "stream",
     "text": [
      "[0.01       0.01046823 0.01093645 0.01140468 0.01187291 0.01234114\n",
      " 0.01280936 0.01327759 0.01374582 0.01421405 0.01468227 0.0151505\n",
      " 0.01561873 0.01608696 0.01655518 0.01702341 0.01749164 0.01795987\n",
      " 0.01842809 0.01889632 0.01936455 0.01983278 0.020301   0.02076923\n",
      " 0.02123746 0.02170569 0.02217391 0.02264214 0.02311037 0.0235786\n",
      " 0.02404682 0.02451505 0.02498328 0.02545151 0.02591973 0.02638796\n",
      " 0.02685619 0.02732441 0.02779264 0.02826087 0.0287291  0.02919732\n",
      " 0.02966555 0.03013378 0.03060201 0.03107023 0.03153846 0.03200669\n",
      " 0.03247492 0.03294314 0.03341137 0.0338796  0.03434783 0.03481605\n",
      " 0.03528428 0.03575251 0.03622074 0.03668896 0.03715719 0.03762542\n",
      " 0.03809365 0.03856187 0.0390301  0.03949833 0.03996656 0.04043478\n",
      " 0.04090301 0.04137124 0.04183946 0.04230769 0.04277592 0.04324415\n",
      " 0.04371237 0.0441806  0.04464883 0.04511706 0.04558528 0.04605351\n",
      " 0.04652174 0.04698997 0.04745819 0.04792642 0.04839465 0.04886288\n",
      " 0.0493311  0.04979933 0.05026756 0.05073579 0.05120401 0.05167224\n",
      " 0.05214047 0.0526087  0.05307692 0.05354515 0.05401338 0.05448161\n",
      " 0.05494983 0.05541806 0.05588629 0.05635452 0.05682274 0.05729097\n",
      " 0.0577592  0.05822742 0.05869565 0.05916388 0.05963211 0.06010033\n",
      " 0.06056856 0.06103679 0.06150502 0.06197324 0.06244147 0.0629097\n",
      " 0.06337793 0.06384615 0.06431438 0.06478261 0.06525084 0.06571906\n",
      " 0.06618729 0.06665552 0.06712375 0.06759197 0.0680602  0.06852843\n",
      " 0.06899666 0.06946488 0.06993311 0.07040134 0.07086957 0.07133779\n",
      " 0.07180602 0.07227425 0.07274247 0.0732107  0.07367893 0.07414716\n",
      " 0.07461538 0.07508361 0.07555184 0.07602007 0.07648829 0.07695652\n",
      " 0.07742475 0.07789298 0.0783612  0.07882943 0.07929766 0.07976589\n",
      " 0.08023411 0.08070234 0.08117057 0.0816388  0.08210702 0.08257525\n",
      " 0.08304348 0.08351171 0.08397993 0.08444816 0.08491639 0.08538462\n",
      " 0.08585284 0.08632107 0.0867893  0.08725753 0.08772575 0.08819398\n",
      " 0.08866221 0.08913043 0.08959866 0.09006689 0.09053512 0.09100334\n",
      " 0.09147157 0.0919398  0.09240803 0.09287625 0.09334448 0.09381271\n",
      " 0.09428094 0.09474916 0.09521739 0.09568562 0.09615385 0.09662207\n",
      " 0.0970903  0.09755853 0.09802676 0.09849498 0.09896321 0.09943144\n",
      " 0.09989967 0.10036789 0.10083612 0.10130435 0.10177258 0.1022408\n",
      " 0.10270903 0.10317726 0.10364548 0.10411371 0.10458194 0.10505017\n",
      " 0.10551839 0.10598662 0.10645485 0.10692308 0.1073913  0.10785953\n",
      " 0.10832776 0.10879599 0.10926421 0.10973244 0.11020067 0.1106689\n",
      " 0.11113712 0.11160535 0.11207358 0.11254181 0.11301003 0.11347826\n",
      " 0.11394649 0.11441472 0.11488294 0.11535117 0.1158194  0.11628763\n",
      " 0.11675585 0.11722408 0.11769231 0.11816054 0.11862876 0.11909699\n",
      " 0.11956522 0.12003344 0.12050167 0.1209699  0.12143813 0.12190635\n",
      " 0.12237458 0.12284281 0.12331104 0.12377926 0.12424749 0.12471572\n",
      " 0.12518395 0.12565217 0.1261204  0.12658863 0.12705686 0.12752508\n",
      " 0.12799331 0.12846154 0.12892977 0.12939799 0.12986622 0.13033445\n",
      " 0.13080268 0.1312709  0.13173913 0.13220736 0.13267559 0.13314381\n",
      " 0.13361204 0.13408027 0.13454849 0.13501672 0.13548495 0.13595318\n",
      " 0.1364214  0.13688963 0.13735786 0.13782609 0.13829431 0.13876254\n",
      " 0.13923077 0.139699   0.14016722 0.14063545 0.14110368 0.14157191\n",
      " 0.14204013 0.14250836 0.14297659 0.14344482 0.14391304 0.14438127\n",
      " 0.1448495  0.14531773 0.14578595 0.14625418 0.14672241 0.14719064\n",
      " 0.14765886 0.14812709 0.14859532 0.14906355 0.14953177 0.15      ] s\n"
     ]
    }
   ],
   "source": [
    "#Range of initial spin periods \n",
    "test_p0 = np.linspace(0.01,0.15,300)*u.s\n",
    "print(test_p0)"
   ]
  },
  {
   "cell_type": "code",
   "execution_count": 13,
   "id": "e6cba079",
   "metadata": {},
   "outputs": [
    {
     "data": {
      "text/plain": [
       "\"\\n#Plot edot (PWN,t), from Gunn and Ostriker, assumes theta=pi/4\\ndef calc_ngj(age_pwn,patnf,Bp=10**12*u.cm**-0.5*u.g**0.5/u.s,a=(10*u.km).to(u.cm),theta=np.pi/4,I=1.4e45*u.g*u.cm**2):\\n    ys=np.arange(len(age_pwn),dtype='float64')\\n    fatnfc=2*np.pi/patnf/u.s\\n    print(patnf,fatnfc)\\n    for i in np.arange(len(ys)):\\n        t=np.linspace(0*u.s,age_pwn[i].to(u.s),100)\\n        tau0atnf=(6*I*c.c.cgs**3)/(Bp**2*a**6*np.sin(theta)**2*fatnfc**2)\\n        edot_pwn=(2/(3*c.c.cgs**3))*(Bp**2*(a**6)/4)*((np.sin(theta)**2*fatnfc**4)/(1+2*t/tau0atnf)**2)\\n        edot_pwn=edot_pwn.to(u.erg/u.s)\\n        integrand=1*(6*c.c.cgs*edot_pwn)**0.5/c.e.gauss\\n        y=simps(integrand,t)\\n        ys[i]=y\\n    return ys\\n\""
      ]
     },
     "execution_count": 13,
     "metadata": {},
     "output_type": "execute_result"
    }
   ],
   "source": [
    "#Calculate N_GJ integral, check current day values\n",
    "\n",
    "def calc_ngj(edot_pwn,age_pwn,psr_age=10**3*u.yr,alpha=2):\n",
    "    \n",
    "    \n",
    "    ys=np.arange(len(age_pwn),dtype='float64')\n",
    "    for i in np.arange(len(ys)):\n",
    "        t=np.linspace(0*u.s,age_pwn[i].to(u.s),100)\n",
    "        edot_pwnt=edot_pwn*(1+t/psr_age)**alpha\n",
    "        edot_pwnt=edot_pwnt.to(u.erg/u.s)\n",
    "        integrand=1*(6*c.c.cgs*edot_pwnt)**0.5/c.e.gauss\n",
    "        y=simps(integrand,t)\n",
    "        ys[i]=y\n",
    "    return ys\n",
    "'''\n",
    "#Plot edot (PWN,t), from Gunn and Ostriker, assumes theta=pi/4\n",
    "def calc_ngj(age_pwn,patnf,Bp=10**12*u.cm**-0.5*u.g**0.5/u.s,a=(10*u.km).to(u.cm),theta=np.pi/4,I=1.4e45*u.g*u.cm**2):\n",
    "    ys=np.arange(len(age_pwn),dtype='float64')\n",
    "    fatnfc=2*np.pi/patnf/u.s\n",
    "    print(patnf,fatnfc)\n",
    "    for i in np.arange(len(ys)):\n",
    "        t=np.linspace(0*u.s,age_pwn[i].to(u.s),100)\n",
    "        tau0atnf=(6*I*c.c.cgs**3)/(Bp**2*a**6*np.sin(theta)**2*fatnfc**2)\n",
    "        edot_pwn=(2/(3*c.c.cgs**3))*(Bp**2*(a**6)/4)*((np.sin(theta)**2*fatnfc**4)/(1+2*t/tau0atnf)**2)\n",
    "        edot_pwn=edot_pwn.to(u.erg/u.s)\n",
    "        integrand=1*(6*c.c.cgs*edot_pwn)**0.5/c.e.gauss\n",
    "        y=simps(integrand,t)\n",
    "        ys[i]=y\n",
    "    return ys\n",
    "'''"
   ]
  },
  {
   "cell_type": "code",
   "execution_count": 14,
   "id": "ecac09ae-2e11-4936-bc0d-8e9f772d9cab",
   "metadata": {
    "tags": []
   },
   "outputs": [
    {
     "name": "stdout",
     "output_type": "stream",
     "text": [
      "0.15158194339345915 1.5286897617091928e-12\n",
      "2.385178822708124e+59 erg / s [9.13032498e+33 9.13025585e+33 9.13018674e+33 9.13011762e+33\n",
      " 9.13004850e+33 9.12997938e+33 9.12991026e+33 9.12984115e+33\n",
      " 9.12977203e+33 9.12970292e+33 9.12963381e+33 9.12956469e+33\n",
      " 9.12949558e+33 9.12942647e+33 9.12935736e+33 9.12928825e+33\n",
      " 9.12921914e+33 9.12915004e+33 9.12908093e+33 9.12901182e+33\n",
      " 9.12894272e+33 9.12887361e+33 9.12880451e+33 9.12873541e+33\n",
      " 9.12866630e+33 9.12859720e+33 9.12852810e+33 9.12845900e+33\n",
      " 9.12838990e+33 9.12832080e+33 9.12825171e+33 9.12818261e+33\n",
      " 9.12811351e+33 9.12804442e+33 9.12797532e+33 9.12790623e+33\n",
      " 9.12783714e+33 9.12776805e+33 9.12769895e+33 9.12762986e+33\n",
      " 9.12756077e+33 9.12749168e+33 9.12742260e+33 9.12735351e+33\n",
      " 9.12728442e+33 9.12721534e+33 9.12714625e+33 9.12707717e+33\n",
      " 9.12700808e+33 9.12693900e+33 9.12686992e+33 9.12680084e+33\n",
      " 9.12673176e+33 9.12666268e+33 9.12659360e+33 9.12652452e+33\n",
      " 9.12645544e+33 9.12638637e+33 9.12631729e+33 9.12624822e+33\n",
      " 9.12617914e+33 9.12611007e+33 9.12604100e+33 9.12597193e+33\n",
      " 9.12590286e+33 9.12583379e+33 9.12576472e+33 9.12569565e+33\n",
      " 9.12562658e+33 9.12555751e+33 9.12548845e+33 9.12541938e+33\n",
      " 9.12535032e+33 9.12528125e+33 9.12521219e+33 9.12514313e+33\n",
      " 9.12507407e+33 9.12500500e+33 9.12493594e+33 9.12486689e+33\n",
      " 9.12479783e+33 9.12472877e+33 9.12465971e+33 9.12459066e+33\n",
      " 9.12452160e+33 9.12445255e+33 9.12438349e+33 9.12431444e+33\n",
      " 9.12424539e+33 9.12417634e+33 9.12410729e+33 9.12403824e+33\n",
      " 9.12396919e+33 9.12390014e+33 9.12383109e+33 9.12376205e+33\n",
      " 9.12369300e+33 9.12362396e+33 9.12355491e+33 9.12348587e+33] erg / s\n"
     ]
    }
   ],
   "source": [
    "#Check Edot for J1513-5908\n",
    "psr_idx = np.where(table[\"NAME\"]=='J1513-5908')[0][0]\n",
    "period_atnfi = period[psr_idx]\n",
    "pdot_atnfi = pdot[psr_idx]\n",
    "print(period_atnfi,pdot_atnfi)\n",
    "Bp=10**12*u.cm**-0.5*u.g**0.5/u.s\n",
    "a=(10*u.km).to(u.cm)\n",
    "theta=np.pi/4\n",
    "I=1.4e45*u.g*u.cm**2\n",
    "age_pwni=age_p0(period_atnfi,pdot_atnfi)\n",
    "Edotjager=I*(2*np.pi/period_atnfi/u.s)*(2*np.pi/pdot_atnfi/u.s**2)\n",
    "\n",
    "fatnfc=2*np.pi/period_atnfi/u.s\n",
    "t=np.linspace(0*u.s,age_pwni.to(u.s),100)\n",
    "tau0atnf=(6*I*c.c.cgs**3)/(Bp**2*a**6*np.sin(theta)**2*fatnfc**2)\n",
    "edot_pwn=(2/(3*c.c.cgs**3))*(Bp**2*(a**6)/4)*((np.sin(theta)**2*fatnfc**4)/(1+2*t/tau0atnf)**2)\n",
    "edot_pwn=edot_pwn.to(u.erg/u.s)\n",
    "print(Edotjager.to(u.erg/u.s),edot_pwn)"
   ]
  },
  {
   "cell_type": "code",
   "execution_count": 15,
   "id": "37808080",
   "metadata": {},
   "outputs": [
    {
     "name": "stdout",
     "output_type": "stream",
     "text": [
      "[nan, nan, 1083.2479935483686, 884.3027300933281, 802.3430954766742, 374.2271834608023, 129.50054480966807, 64.12450019249901, 1029.9776687543892, 172.74052511898918, 98.38115780364375, 106.67209018088776, 109.21976361751237, 71.77424772000998, 267.71762110165344, 63.93108785390081, nan, 1880.3540587144919, nan, nan, 316.32811121313426, 303.8542024535956, nan, 80.07186103947491, 351.370155975953, 351.370155975953, 88.92592693474771, 57.09913124648884, 41.58512540465683, 41.58512540465683, 84.91253538767081, 26.1414631709942, nan, 12.798153883397681, 6.073675112350931, 5.204706936908151, 5.204706936908151, 7.611115944600587, nan, nan, nan, nan, nan, nan, nan, nan, nan, nan] [nan, nan, -37747.73947557524, 4430.287050181975, 938.3472275190749, 463.9892150307171, 495.7632075630047, -139.26879721534678, 1059.822969490713, 332.7483733036514, 348.79802810652603, 158.80211580656834, 128.28312381627308, 118.98619835780362, 273.3462601920784, 73.08109864946273, nan, 59185.67981057659, nan, nan, 1072.5301840099849, 434.96271155440377, nan, 191.21779576768208, 385.7135559097915, 385.7135559097915, 145.08846383122224, 89.5102589588292, 64.83646576631192, 64.83646576631192, 111.2643581058695, 61.118938617325675, nan, 39.368298071326876, 11.885843803759883, 11.5769724493586, 11.5769724493586, 9.846031947776202, nan, nan, nan, nan, nan, nan, nan, nan, nan, nan]\n",
      "PearsonRResult(statistic=0.8324095761488852, pvalue=6.398619919660232e-09)\n",
      "PearsonRResult(statistic=0.06634567228454052, pvalue=0.7228832306102785)\n"
     ]
    },
    {
     "data": {
      "text/plain": [
       "<Figure size 2000x600 with 0 Axes>"
      ]
     },
     "metadata": {},
     "output_type": "display_data"
    },
    {
     "data": {
      "image/png": "[encoded data removed]",
      "text/plain": [
       "<Figure size 640x480 with 2 Axes>"
      ]
     },
     "metadata": {},
     "output_type": "display_data"
    }
   ],
   "source": [
    "from scipy.stats import pearsonr\n",
    "\n",
    "plt.figure(figsize=(20,6))\n",
    "lines = [(0, (1, 3)),\"-\",\"--\",\"-.\",\":\"]\n",
    "linecycler = cycle(lines)\n",
    "#Now plot how the pair-production multiplicity varies with P0. \n",
    "color = cm.cividis(np.linspace(0, 1, len(df)))\n",
    "#Only first 10 in df, as len(df) is a crowded plot\n",
    "fig,axs=plt.subplots(1,2)\n",
    "edots=[]\n",
    "minkappas=[]\n",
    "maxkappas=[]\n",
    "for i in range(len(df)):\n",
    "    \n",
    "    tau_p0 = age_p0(period_atnf[i],pdot_atnf[i],test_p0)\n",
    "    ngj_p0 = calc_ngj(edot[i],tau_p0)\n",
    "    k_p0 = Nel[i] / (2.*ngj_p0)\n",
    "    mask = test_p0 < period_atnf[i]*u.s\n",
    "    minkappa=k_p0[np.abs(test_p0.value-0.01).argmin()]\n",
    "    maxkappa=k_p0[np.abs(test_p0.value-0.05).argmin()]\n",
    "    axs[0].scatter(edot[i],minkappa)\n",
    "    axs[1].scatter(edot[i],maxkappa)\n",
    "    edots.append(edot[i].value)\n",
    "    minkappas.append(minkappa)\n",
    "    maxkappas.append(maxkappa)\n",
    "\n",
    "axs[0].loglog()\n",
    "axs[1].loglog()\n",
    "axs[0].set_ylabel(r\"Min $\\langle\\kappa\\rangle$ [Dimensionless]\",fontsize=12)\n",
    "axs[0].set_xlabel(\"Edot [erg/s]\",fontsize=12)\n",
    "axs[1].set_ylabel(r\"Max $\\langle\\kappa\\rangle$ [Dimensionless]\",fontsize=12)\n",
    "axs[1].set_xlabel(r\"$\\dot{E}$ [erg/s]\",fontsize=12)\n",
    "plt.tight_layout()\n",
    "print(minkappas,maxkappas)\n",
    "print(pearsonr(np.asarray(edots)[~np.isnan(minkappas)],np.asarray(minkappas)[~np.isnan(minkappas)]))\n",
    "print(pearsonr(np.asarray(edots)[~np.isnan(maxkappas)],np.asarray(maxkappas)[~np.isnan(maxkappas)]))\n",
    "plt.savefig('kappaplotdiff.png',dpi=300)"
   ]
  },
  {
   "cell_type": "code",
   "execution_count": 16,
   "id": "2faf204f-6016-4cdd-a333-6ee9ad0cf10c",
   "metadata": {},
   "outputs": [
    {
     "name": "stdout",
     "output_type": "stream",
     "text": [
      "[ 884.30273009  802.34309548  374.22718346  129.50054481 1029.97766875\n",
      "  172.74052512   98.3811578   106.67209018  109.21976362   71.77424772\n",
      "  267.7176211    63.93108785 1880.35405871  316.32811121  303.85420245\n",
      "   80.07186104  351.37015598  351.37015598   88.92592693   57.09913125\n",
      "   41.5851254    41.5851254    84.91253539   26.14146317   12.79815388\n",
      "    6.07367511    5.20470694    5.20470694    7.61111594] [4.43028705e+03 9.38347228e+02 4.63989215e+02 4.95763208e+02\n",
      " 1.05982297e+03 3.32748373e+02 3.48798028e+02 1.58802116e+02\n",
      " 1.28283124e+02 1.18986198e+02 2.73346260e+02 7.30810986e+01\n",
      " 5.91856798e+04 1.07253018e+03 4.34962712e+02 1.91217796e+02\n",
      " 3.85713556e+02 3.85713556e+02 1.45088464e+02 8.95102590e+01\n",
      " 6.48364658e+01 6.48364658e+01 1.11264358e+02 6.11189386e+01\n",
      " 3.93682981e+01 1.18858438e+01 1.15769724e+01 1.15769724e+01\n",
      " 9.84603195e+00]\n",
      "29\n"
     ]
    },
    {
     "data": {
      "image/png": "[encoded data removed]",
      "text/plain": [
       "<Figure size 1000x500 with 1 Axes>"
      ]
     },
     "metadata": {},
     "output_type": "display_data"
    }
   ],
   "source": [
    "from itertools import cycle, islice\n",
    "fig=plt.figure(figsize=(10,5))\n",
    "\n",
    "def repeatlist(it, count):\n",
    "    return islice(cycle(it), count)\n",
    "\n",
    "#Filter out nan minkappas\n",
    "truelocs=~np.isnan(minkappas)\n",
    "minkappas=np.asarray(minkappas)[truelocs]\n",
    "maxkappas=np.asarray(maxkappas)[truelocs]\n",
    "edots=np.asarray(edots)[truelocs]\n",
    "atnf_names=np.asarray(atnf_names)[truelocs]\n",
    "#Filter out negative maxkappas\n",
    "maxlocs=np.where(maxkappas>0)\n",
    "minkappas=minkappas[maxlocs]\n",
    "maxkappas=maxkappas[maxlocs]\n",
    "edots=edots[maxlocs]\n",
    "atnf_names=atnf_names[maxlocs]\n",
    "\n",
    "print(minkappas,maxkappas)\n",
    "ax=plt.gca()\n",
    "prop_cycle = plt.rcParams['axes.prop_cycle']\n",
    "color = repeatlist(prop_cycle.by_key()['color'],count=100)\n",
    "\n",
    "for i in np.arange(len(edots)):\n",
    "    plt.vlines(edots[i],minkappas[i],maxkappas[i],linewidths=5)\n",
    "    #plt.text(edots[i],1e5,atnf_names[i],rotation=90)\n",
    "#plt.axhline(y=2*c.m_p/c.m_e,color='k',linestyle=':',label='$2m_p/m_e$')\n",
    "print(len(minkappas))\n",
    "plt.loglog()\n",
    "plt.ylabel(r\"$\\langle\\kappa\\rangle$ [Dimensionless]\",fontsize=20)\n",
    "plt.ylim(1,1e7)\n",
    "plt.xlabel(r\"$\\dot{E}_t$ [erg/s]\",fontsize=20)\n",
    "#plt.legend(loc='upper left')\n",
    "plt.tight_layout()\n",
    "plt.savefig('kapparange.png',dpi=300)"
   ]
  },
  {
   "cell_type": "code",
   "execution_count": 17,
   "id": "4887a4be-9743-4f2b-abea-8be908303153",
   "metadata": {},
   "outputs": [
    {
     "name": "stdout",
     "output_type": "stream",
     "text": [
      "[3.39e+37 1.70e+37 1.20e+37 1.00e+37 8.13e+36 6.92e+36 5.50e+36 4.90e+36\n",
      " 3.09e+36 2.82e+36 2.29e+36 1.70e+36 4.27e+37 1.58e+37 1.10e+37 4.57e+36\n",
      " 4.37e+36 4.37e+36 3.39e+36 2.82e+36 2.57e+36 2.57e+36 2.19e+36 1.82e+36\n",
      " 1.29e+36 8.32e+35 5.75e+35 5.75e+35 4.47e+35]\n",
      "    Atnf_names Edots times 10^36     minkappa      maxkappa\n",
      "0   J1833-1034              33.9   884.302730   4430.287050\n",
      "1   J1513-5908              17.0   802.343095    938.347228\n",
      "2   J1930+1852              12.0   374.227183    463.989215\n",
      "3   J1420-6048              10.0   129.500545    495.763208\n",
      "4   J1846-0258              8.13  1029.977669   1059.822969\n",
      "5   J0835-4510              6.92   172.740525    332.748373\n",
      "6   J1838-0655               5.5    98.381158    348.798028\n",
      "7   J1418-6058               4.9   106.672090    158.802116\n",
      "8   J1357-6429              3.09   109.219764    128.283124\n",
      "9   J1826-1334              2.82    71.774248    118.986198\n",
      "10  J1119-6127              2.29   267.717621    273.346260\n",
      "11  J1301-6305               1.7    63.931088     73.081099\n",
      "12  J1747-2809              42.7  1880.354059  59185.679811\n",
      "13  J1617-5055              15.8   316.328111   1072.530184\n",
      "14  J1023-5746              11.0   303.854202    434.962712\n",
      "15  J1856+0245              4.57    80.071861    191.217796\n",
      "16  J1640-4631              4.37   351.370156    385.713556\n",
      "17  J1640-4631              4.37   351.370156    385.713556\n",
      "18  J1709-4429              3.39    88.925927    145.088464\n",
      "19  J1907+0602              2.82    57.099131     89.510259\n",
      "20  J1016-5857              2.57    41.585125     64.836466\n",
      "21  J1016-5857              2.57    41.585125     64.836466\n",
      "22  J1803-2137              2.19    84.912535    111.264358\n",
      "23  J1809-1917              1.82    26.141463     61.118939\n",
      "24  J1718-3825              1.29    12.798154     39.368298\n",
      "25  J1028-5819             0.832     6.073675     11.885844\n",
      "26  J1833-0827             0.575     5.204707     11.576972\n",
      "27  J1833-0827             0.575     5.204707     11.576972\n",
      "28  J1857+0143             0.447     7.611116      9.846032\n"
     ]
    }
   ],
   "source": [
    "print(edots)\n",
    "df = pd.DataFrame(columns=['Atnf_names', 'Edots times 10^36', 'minkappa','maxkappa'])\n",
    "df['Atnf_names']=atnf_names\n",
    "df['Edots times 10^36']=edots/10**36\n",
    "df['minkappa']=minkappas\n",
    "df['maxkappa']=maxkappas\n",
    "\n",
    "\n",
    "print(df)"
   ]
  },
  {
   "cell_type": "code",
   "execution_count": 18,
   "id": "35ab5431-b418-417d-b1e6-ff7ac1615327",
   "metadata": {
    "tags": []
   },
   "outputs": [
    {
     "name": "stdout",
     "output_type": "stream",
     "text": [
      "\\begin{tabular}{llrr}\n",
      "\\toprule\n",
      "Atnf_names & Edots times 10^36 & minkappa & maxkappa \\\\\n",
      "\\midrule\n",
      "J1833-1034 & 33.900000 & 884 & 4430 \\\\\n",
      "J1513-5908 & 17.000000 & 802 & 938 \\\\\n",
      "J1930+1852 & 12.000000 & 374 & 464 \\\\\n",
      "J1420-6048 & 10.000000 & 130 & 496 \\\\\n",
      "J1846-0258 & 8.130000 & 1030 & 1060 \\\\\n",
      "J0835-4510 & 6.920000 & 173 & 333 \\\\\n",
      "J1838-0655 & 5.500000 & 98 & 349 \\\\\n",
      "J1418-6058 & 4.900000 & 107 & 159 \\\\\n",
      "J1357-6429 & 3.090000 & 109 & 128 \\\\\n",
      "J1826-1334 & 2.820000 & 72 & 119 \\\\\n",
      "J1119-6127 & 2.290000 & 268 & 273 \\\\\n",
      "J1301-6305 & 1.700000 & 64 & 73 \\\\\n",
      "J1747-2809 & 42.700000 & 1880 & 59186 \\\\\n",
      "J1617-5055 & 15.800000 & 316 & 1073 \\\\\n",
      "J1023-5746 & 11.000000 & 304 & 435 \\\\\n",
      "J1856+0245 & 4.570000 & 80 & 191 \\\\\n",
      "J1640-4631 & 4.370000 & 351 & 386 \\\\\n",
      "J1640-4631 & 4.370000 & 351 & 386 \\\\\n",
      "J1709-4429 & 3.390000 & 89 & 145 \\\\\n",
      "J1907+0602 & 2.820000 & 57 & 90 \\\\\n",
      "J1016-5857 & 2.570000 & 42 & 65 \\\\\n",
      "J1016-5857 & 2.570000 & 42 & 65 \\\\\n",
      "J1803-2137 & 2.190000 & 85 & 111 \\\\\n",
      "J1809-1917 & 1.820000 & 26 & 61 \\\\\n",
      "J1718-3825 & 1.290000 & 13 & 39 \\\\\n",
      "J1028-5819 & 0.832000 & 6 & 12 \\\\\n",
      "J1833-0827 & 0.575000 & 5 & 12 \\\\\n",
      "J1833-0827 & 0.575000 & 5 & 12 \\\\\n",
      "J1857+0143 & 0.447000 & 8 & 10 \\\\\n",
      "\\bottomrule\n",
      "\\end{tabular}\n",
      "\n"
     ]
    }
   ],
   "source": [
    "print(df.to_latex(index=False,\n",
    "                  formatters={\"name\": str.upper},\n",
    "                  float_format=\"{:.0f}\".format,))  "
   ]
  },
  {
   "cell_type": "code",
   "execution_count": null,
   "id": "ad3d8406-0265-4df3-94a6-5d5ba5ac4adb",
   "metadata": {},
   "outputs": [],
   "source": []
  }
 ],
 "metadata": {
  "kernelspec": {
   "display_name": "Python 3 (ipykernel)",
   "language": "python",
   "name": "python3"
  },
  "language_info": {
   "codemirror_mode": {
    "name": "ipython",
    "version": 3
   },
   "file_extension": ".py",
   "mimetype": "text/x-python",
   "name": "python",
   "nbconvert_exporter": "python",
   "pygments_lexer": "ipython3",
   "version": "3.10.13"
  }
 },
 "nbformat": 4,
 "nbformat_minor": 5
}
