{
 "cells": [
  {
   "cell_type": "markdown",
   "id": "6a8e4a81",
   "metadata": {},
   "source": [
    "### Deriving pulsar properties from PWNe - testing\n",
    "* Pair-production multiplicity via de Jager 2007 $<k> = \\frac{N_e({\\rm obs})}{2N_{GJ}}$\n",
    "* Initial spin-down period $P_0$ via van de Swaluw 2001 & the ratio $R_{pwn}/R_{snr}$\n",
    "* Relate $k$ to the fraction of hadronic particles present in the PWN (and hence hadronic emission component) "
   ]
  },
  {
   "cell_type": "code",
   "execution_count": 1,
   "id": "a5bcdb84",
   "metadata": {
    "tags": []
   },
   "outputs": [],
   "source": [
    "import numpy as np\n",
    "import astropy.units as u\n",
    "from astropy import constants as c\n",
    "import matplotlib.pyplot as plt\n",
    "from psrqpy import QueryATNF\n",
    "import matplotlib.pylab as pylab\n",
    "from cycler import cycler\n",
    "from itertools import cycle\n",
    "from scipy.integrate import simps\n",
    "from matplotlib.pyplot import cm\n",
    "import tabulate\n",
    "\n",
    "params = {'legend.fontsize': 'xx-large',\n",
    "         'axes.labelsize': 'xx-large',\n",
    "          'axes.titlesize':'xx-large',\n",
    "          'xtick.labelsize':'xx-large',\n",
    "          'ytick.labelsize':'xx-large'}\n",
    "\n",
    "pylab.rcParams.update(params)\n",
    "plt.style.use('tableau-colorblind10')\n",
    "\n",
    "%matplotlib inline"
   ]
  },
  {
   "cell_type": "code",
   "execution_count": 2,
   "id": "f3bc24e3",
   "metadata": {},
   "outputs": [],
   "source": [
    "# Choose parameters from ATNF (or query the whole database)\n",
    "query = QueryATNF() #params=['Edot','age',\"dist\",\"P0\",\"P1\",\"BINARY\"])"
   ]
  },
  {
   "cell_type": "code",
   "execution_count": 3,
   "id": "cf6132a5",
   "metadata": {},
   "outputs": [],
   "source": [
    "# Convert them to PANDAS\n",
    "table = query.table\n",
    "table = table.to_pandas()\n",
    "\n",
    "age_all = table[\"AGE\"]\n",
    "edot_all = table[\"EDOT\"]\n",
    "dist = table[\"DIST\"]\n",
    "period = table[\"P0\"]\n",
    "pdot = table[\"P1\"]\n",
    "#fatnf = 2*np.pi/np.asarray(period)/u.s\n",
    "\n",
    "# Compute beam fraction correction\n",
    "beam_fraction = 9 * np.power(np.log10((period)/10), 2) + 3\n",
    "beam_fraction /= 100\n",
    "\n",
    "# Selection to remove milli-second pulsars\n",
    "sel = np.logical_and(np.invert(np.isnan(age_all)), np.invert(np.isnan(edot_all)))\n",
    "sel = np.logical_and(sel, dist < 25) #within the Milky Way\n",
    "sel = np.logical_and(sel, period > 0.01)\n",
    "sel = np.logical_and(sel, pdot > 1e-18)\n",
    "sel = np.logical_and(sel, age_all < 1e7)\n",
    "\n",
    "#print(max(age))\n",
    "#Now apply selection mask \n",
    "age_all = age_all[sel]\n",
    "\n",
    "edot_all = edot_all[sel]\n",
    "beam_fraction = beam_fraction[sel]\n",
    "#dist = dist[sel]\n",
    "#period = period[sel]\n",
    "#pdot = pdot[sel]"
   ]
  },
  {
   "cell_type": "markdown",
   "id": "de428f43",
   "metadata": {},
   "source": [
    "### Pair-production mutiplicity\n",
    "1) Use Halo paper results for known HESS PWNe to obtain $N_e$ via observations \n",
    "* i.e. use energy densities provided and properties of the assumed electron spectrum \n",
    "* Note: $E_{\\rm min} = 100$GeV, $E_{\\rm max}=1,3,10$TeV and $\\Gamma = 2.2$\n",
    "\n",
    "2) Use ATNF catalogue to obtain $N_{GJ}$ for the same pulsars via known properties\n",
    "* see also eqn(2) of de Jager for the simplified version of $\\dot{E}$\n"
   ]
  },
  {
   "cell_type": "code",
   "execution_count": 4,
   "id": "768079d1",
   "metadata": {},
   "outputs": [],
   "source": [
    "import pandas as pd\n",
    "\n",
    "df = pd.read_csv(\"Pulsar_PWNe_properties - table_pulsars.csv\")"
   ]
  },
  {
   "cell_type": "code",
   "execution_count": 5,
   "id": "6c99bdfd",
   "metadata": {},
   "outputs": [
    {
     "data": {
      "text/plain": [
       "Index(['Name', 'ATNF J name', 'Edot [erg/s]', 'Size [pc]', 'Distance [kpc]',\n",
       "       'Age [kyr]', 'Total_E [erg]', 'Volume [cm^3]', 'Edens [eV/cm^-3]',\n",
       "       'mean_edens [eV/cm^-3]', 'min_edens [eV/cm^-3]', 'max_edens [eV/cm^-3]',\n",
       "       'E_Threshold [TeV]', 'R_SNR [pc]', 'R_PWN [pc]', 'R_TeV [pc]',\n",
       "       'R_Xray [pc]', 'LHAASO E_gmax (PeV)', 'LHAASO E_emax (PeV)',\n",
       "       'Unnamed: 19', 'dN_e/dE', 'E_low [TeV]', 'E_0 [TeV]', 'E_max [TeV]',\n",
       "       'N_e [cm^-3]', 'Notes', 'Unnamed: 26'],\n",
       "      dtype='object')"
      ]
     },
     "execution_count": 5,
     "metadata": {},
     "output_type": "execute_result"
    }
   ],
   "source": [
    "df.columns"
   ]
  },
  {
   "cell_type": "code",
   "execution_count": 6,
   "id": "c2e6ee83",
   "metadata": {},
   "outputs": [
    {
     "name": "stdout",
     "output_type": "stream",
     "text": [
      "0       J0002+6216\n",
      "1       J0006+1834\n",
      "2       J0007+7303\n",
      "45      J0040+5716\n",
      "49      J0048+3412\n",
      "           ...    \n",
      "3335    J2325+6316\n",
      "3342    J2330-2005\n",
      "3345    J2337+6151\n",
      "3355    J2354+6155\n",
      "3358    J2355+2246\n",
      "Name: NAME, Length: 1244, dtype: object\n"
     ]
    }
   ],
   "source": [
    "#Obtain period and pdot from ATNF\n",
    "atnf_names=df['ATNF J name']\n",
    "\n",
    "period_atnf = np.zeros(len(df))\n",
    "pdot_atnf = np.zeros(len(df))\n",
    "print(table[\"NAME\"][sel])\n",
    "for i in range(len(df)):\n",
    "    psr_idx = np.where(table[\"NAME\"]==atnf_names[i])[0][0]\n",
    "    period_atnf[i] = period[psr_idx]\n",
    "    pdot_atnf[i] = pdot[psr_idx]\n"
   ]
  },
  {
   "cell_type": "code",
   "execution_count": 7,
   "id": "2b3b59ed",
   "metadata": {},
   "outputs": [
    {
     "name": "stdout",
     "output_type": "stream",
     "text": [
      "0       NaN\n",
      "1       NaN\n",
      "2     0.387\n",
      "3     0.388\n",
      "4     0.610\n",
      "5     0.894\n",
      "6     0.759\n",
      "7     0.501\n",
      "8     0.395\n",
      "9     0.470\n",
      "10    0.388\n",
      "11    0.759\n",
      "12    0.784\n",
      "13    0.396\n",
      "14    0.683\n",
      "15    0.694\n",
      "16      NaN\n",
      "17    0.170\n",
      "18      NaN\n",
      "19      NaN\n",
      "20    0.532\n",
      "21    0.742\n",
      "22      NaN\n",
      "23    0.492\n",
      "24    0.442\n",
      "25    0.442\n",
      "26    0.428\n",
      "27    0.587\n",
      "28    0.757\n",
      "29    0.757\n",
      "30    0.383\n",
      "31    0.383\n",
      "32      NaN\n",
      "33    0.389\n",
      "34    0.744\n",
      "35    0.388\n",
      "36    0.388\n",
      "37    0.492\n",
      "38      NaN\n",
      "39      NaN\n",
      "40    0.379\n",
      "41    0.379\n",
      "42      NaN\n",
      "43      NaN\n",
      "44      NaN\n",
      "45      NaN\n",
      "46      NaN\n",
      "47      NaN\n",
      "Name: E_Threshold [TeV], dtype: float64\n"
     ]
    }
   ],
   "source": [
    "#Define properties of electron spectrum as per the halos paper\n",
    "E0 = 1. *u.TeV\n",
    "E2 = 10. *u.TeV #1, 3 or 10\n",
    "#E1 = 0.1 *u.TeV\n",
    "E1 = df['E_Threshold [TeV]']*u.TeV\n",
    "Gam = 2.2\n",
    "\n",
    "pow2 = 2-Gam\n",
    "integral2 = ((E2)**pow2 - (E1)**pow2)/(pow2*E0**(1-Gam))\n",
    "\n",
    "#Integration constant is total energy (from halos paper) divided by electron spectrum integral\n",
    "print(df['E_Threshold [TeV]'])\n",
    "k_intconst = df[\"Total_E [erg]\"]*u.erg / integral2"
   ]
  },
  {
   "cell_type": "code",
   "execution_count": 8,
   "id": "9950a670",
   "metadata": {},
   "outputs": [
    {
     "name": "stdout",
     "output_type": "stream",
     "text": [
      "nan\n"
     ]
    }
   ],
   "source": [
    "pow1 = 1-Gam\n",
    "integral = ((E2/E0)**pow1 - (E1/E0)**pow1)/pow1\n",
    "\n",
    "Nel = k_intconst*integral\n",
    "#Number of electrons derived from observations\n",
    "print(Nel[0])"
   ]
  },
  {
   "cell_type": "code",
   "execution_count": 9,
   "id": "e603d3ea",
   "metadata": {},
   "outputs": [],
   "source": [
    "#for convenience\n",
    "yr_to_s = (1. * u.yr).to(u.s)"
   ]
  },
  {
   "cell_type": "code",
   "execution_count": 10,
   "id": "fad07ed0",
   "metadata": {},
   "outputs": [],
   "source": [
    "#Edot and age as used in halos paper: \n",
    "edot = np.zeros(len(df))\n",
    "age_halo = np.zeros(len(df))\n",
    "\n",
    "for i in range(len(df)):\n",
    "#     print(i)\n",
    "    edot[i] = df[\"Edot [erg/s]\"][i] \n",
    "    age_halo[i] = df[\"Age [kyr]\"][i]\n",
    "    \n",
    "\n",
    "edot *= u.erg / u.s\n",
    "age_halo *= u.kyr\n",
    "# print(age_halo)"
   ]
  },
  {
   "cell_type": "code",
   "execution_count": 11,
   "id": "3617774d",
   "metadata": {},
   "outputs": [],
   "source": [
    "#Calculate age as a function of P0\n",
    "\n",
    "def age_p0(psr_period,psr_pdot,p0=0.01*u.s,n=3):\n",
    "    \n",
    "    brk = n-1\n",
    "    argp = p0/(psr_period*u.s)\n",
    "    tau_age = 1. - argp**brk\n",
    "    tau_age *= (psr_period*u.s)/(brk*psr_pdot)\n",
    "    return tau_age.to(u.yr)"
   ]
  },
  {
   "cell_type": "code",
   "execution_count": 12,
   "id": "0b99545a",
   "metadata": {},
   "outputs": [
    {
     "name": "stdout",
     "output_type": "stream",
     "text": [
      "[0.01       0.0109396  0.01187919 0.01281879 0.01375839 0.01469799\n",
      " 0.01563758 0.01657718 0.01751678 0.01845638 0.01939597 0.02033557\n",
      " 0.02127517 0.02221477 0.02315436 0.02409396 0.02503356 0.02597315\n",
      " 0.02691275 0.02785235 0.02879195 0.02973154 0.03067114 0.03161074\n",
      " 0.03255034 0.03348993 0.03442953 0.03536913 0.03630872 0.03724832\n",
      " 0.03818792 0.03912752 0.04006711 0.04100671 0.04194631 0.04288591\n",
      " 0.0438255  0.0447651  0.0457047  0.0466443  0.04758389 0.04852349\n",
      " 0.04946309 0.05040268 0.05134228 0.05228188 0.05322148 0.05416107\n",
      " 0.05510067 0.05604027 0.05697987 0.05791946 0.05885906 0.05979866\n",
      " 0.06073826 0.06167785 0.06261745 0.06355705 0.06449664 0.06543624\n",
      " 0.06637584 0.06731544 0.06825503 0.06919463 0.07013423 0.07107383\n",
      " 0.07201342 0.07295302 0.07389262 0.07483221 0.07577181 0.07671141\n",
      " 0.07765101 0.0785906  0.0795302  0.0804698  0.0814094  0.08234899\n",
      " 0.08328859 0.08422819 0.08516779 0.08610738 0.08704698 0.08798658\n",
      " 0.08892617 0.08986577 0.09080537 0.09174497 0.09268456 0.09362416\n",
      " 0.09456376 0.09550336 0.09644295 0.09738255 0.09832215 0.09926174\n",
      " 0.10020134 0.10114094 0.10208054 0.10302013 0.10395973 0.10489933\n",
      " 0.10583893 0.10677852 0.10771812 0.10865772 0.10959732 0.11053691\n",
      " 0.11147651 0.11241611 0.1133557  0.1142953  0.1152349  0.1161745\n",
      " 0.11711409 0.11805369 0.11899329 0.11993289 0.12087248 0.12181208\n",
      " 0.12275168 0.12369128 0.12463087 0.12557047 0.12651007 0.12744966\n",
      " 0.12838926 0.12932886 0.13026846 0.13120805 0.13214765 0.13308725\n",
      " 0.13402685 0.13496644 0.13590604 0.13684564 0.13778523 0.13872483\n",
      " 0.13966443 0.14060403 0.14154362 0.14248322 0.14342282 0.14436242\n",
      " 0.14530201 0.14624161 0.14718121 0.14812081 0.1490604  0.15      ] s\n"
     ]
    }
   ],
   "source": [
    "#Range of initial spin periods \n",
    "test_p0 = np.linspace(0.01,0.15,150)*u.s\n",
    "print(test_p0)"
   ]
  },
  {
   "cell_type": "code",
   "execution_count": 13,
   "id": "e6cba079",
   "metadata": {},
   "outputs": [
    {
     "data": {
      "text/plain": [
       "\"\\n#Plot edot (PWN,t), from Gunn and Ostriker, assumes theta=pi/4\\ndef calc_ngj(age_pwn,patnf,Bp=10**12*u.cm**-0.5*u.g**0.5/u.s,a=(10*u.km).to(u.cm),theta=np.pi/4,I=1.4e45*u.g*u.cm**2):\\n    ys=np.arange(len(age_pwn),dtype='float64')\\n    fatnfc=2*np.pi/patnf/u.s\\n    print(patnf,fatnfc)\\n    for i in np.arange(len(ys)):\\n        t=np.linspace(0*u.s,age_pwn[i].to(u.s),100)\\n        tau0atnf=(6*I*c.c.cgs**3)/(Bp**2*a**6*np.sin(theta)**2*fatnfc**2)\\n        edot_pwn=(2/(3*c.c.cgs**3))*(Bp**2*(a**6)/4)*((np.sin(theta)**2*fatnfc**4)/(1+2*t/tau0atnf)**2)\\n        edot_pwn=edot_pwn.to(u.erg/u.s)\\n        integrand=1*(6*c.c.cgs*edot_pwn)**0.5/c.e.gauss\\n        y=simps(integrand,t)\\n        ys[i]=y\\n    return ys\\n\""
      ]
     },
     "execution_count": 13,
     "metadata": {},
     "output_type": "execute_result"
    }
   ],
   "source": [
    "#Calculate N_GJ integral, check current day values\n",
    "\n",
    "def calc_ngj(edot_pwn,age_pwn,psr_age=10**3*u.yr,alpha=2):\n",
    "    \n",
    "    \n",
    "    ys=np.arange(len(age_pwn),dtype='float64')\n",
    "    for i in np.arange(len(ys)):\n",
    "        t=np.linspace(0*u.s,age_pwn[i].to(u.s),100)\n",
    "        edot_pwnt=edot_pwn*(1+t/psr_age)**alpha\n",
    "        edot_pwnt=edot_pwnt.to(u.erg/u.s)\n",
    "        integrand=1*(6*c.c.cgs*edot_pwnt)**0.5/c.e.gauss\n",
    "        y=simps(integrand,t)\n",
    "        ys[i]=y\n",
    "    return ys\n",
    "'''\n",
    "#Plot edot (PWN,t), from Gunn and Ostriker, assumes theta=pi/4\n",
    "def calc_ngj(age_pwn,patnf,Bp=10**12*u.cm**-0.5*u.g**0.5/u.s,a=(10*u.km).to(u.cm),theta=np.pi/4,I=1.4e45*u.g*u.cm**2):\n",
    "    ys=np.arange(len(age_pwn),dtype='float64')\n",
    "    fatnfc=2*np.pi/patnf/u.s\n",
    "    print(patnf,fatnfc)\n",
    "    for i in np.arange(len(ys)):\n",
    "        t=np.linspace(0*u.s,age_pwn[i].to(u.s),100)\n",
    "        tau0atnf=(6*I*c.c.cgs**3)/(Bp**2*a**6*np.sin(theta)**2*fatnfc**2)\n",
    "        edot_pwn=(2/(3*c.c.cgs**3))*(Bp**2*(a**6)/4)*((np.sin(theta)**2*fatnfc**4)/(1+2*t/tau0atnf)**2)\n",
    "        edot_pwn=edot_pwn.to(u.erg/u.s)\n",
    "        integrand=1*(6*c.c.cgs*edot_pwn)**0.5/c.e.gauss\n",
    "        y=simps(integrand,t)\n",
    "        ys[i]=y\n",
    "    return ys\n",
    "'''"
   ]
  },
  {
   "cell_type": "code",
   "execution_count": 14,
   "id": "ecac09ae-2e11-4936-bc0d-8e9f772d9cab",
   "metadata": {
    "tags": []
   },
   "outputs": [
    {
     "name": "stdout",
     "output_type": "stream",
     "text": [
      "0.15158194339345915 1.5286897617091928e-12\n",
      "2.385178822708124e+59 erg / s [9.13032498e+33 9.13025585e+33 9.13018674e+33 9.13011762e+33\n",
      " 9.13004850e+33 9.12997938e+33 9.12991026e+33 9.12984115e+33\n",
      " 9.12977203e+33 9.12970292e+33 9.12963381e+33 9.12956469e+33\n",
      " 9.12949558e+33 9.12942647e+33 9.12935736e+33 9.12928825e+33\n",
      " 9.12921914e+33 9.12915004e+33 9.12908093e+33 9.12901182e+33\n",
      " 9.12894272e+33 9.12887361e+33 9.12880451e+33 9.12873541e+33\n",
      " 9.12866630e+33 9.12859720e+33 9.12852810e+33 9.12845900e+33\n",
      " 9.12838990e+33 9.12832080e+33 9.12825171e+33 9.12818261e+33\n",
      " 9.12811351e+33 9.12804442e+33 9.12797532e+33 9.12790623e+33\n",
      " 9.12783714e+33 9.12776805e+33 9.12769895e+33 9.12762986e+33\n",
      " 9.12756077e+33 9.12749168e+33 9.12742260e+33 9.12735351e+33\n",
      " 9.12728442e+33 9.12721534e+33 9.12714625e+33 9.12707717e+33\n",
      " 9.12700808e+33 9.12693900e+33 9.12686992e+33 9.12680084e+33\n",
      " 9.12673176e+33 9.12666268e+33 9.12659360e+33 9.12652452e+33\n",
      " 9.12645544e+33 9.12638637e+33 9.12631729e+33 9.12624822e+33\n",
      " 9.12617914e+33 9.12611007e+33 9.12604100e+33 9.12597193e+33\n",
      " 9.12590286e+33 9.12583379e+33 9.12576472e+33 9.12569565e+33\n",
      " 9.12562658e+33 9.12555751e+33 9.12548845e+33 9.12541938e+33\n",
      " 9.12535032e+33 9.12528125e+33 9.12521219e+33 9.12514313e+33\n",
      " 9.12507407e+33 9.12500500e+33 9.12493594e+33 9.12486689e+33\n",
      " 9.12479783e+33 9.12472877e+33 9.12465971e+33 9.12459066e+33\n",
      " 9.12452160e+33 9.12445255e+33 9.12438349e+33 9.12431444e+33\n",
      " 9.12424539e+33 9.12417634e+33 9.12410729e+33 9.12403824e+33\n",
      " 9.12396919e+33 9.12390014e+33 9.12383109e+33 9.12376205e+33\n",
      " 9.12369300e+33 9.12362396e+33 9.12355491e+33 9.12348587e+33] erg / s\n"
     ]
    }
   ],
   "source": [
    "#Check Edot for J1513-5908\n",
    "psr_idx = np.where(table[\"NAME\"]=='J1513-5908')[0][0]\n",
    "period_atnfi = period[psr_idx]\n",
    "pdot_atnfi = pdot[psr_idx]\n",
    "print(period_atnfi,pdot_atnfi)\n",
    "Bp=10**12*u.cm**-0.5*u.g**0.5/u.s\n",
    "a=(10*u.km).to(u.cm)\n",
    "theta=np.pi/4\n",
    "I=1.4e45*u.g*u.cm**2\n",
    "age_pwni=age_p0(period_atnfi,pdot_atnfi)\n",
    "Edotjager=I*(2*np.pi/period_atnfi/u.s)*(2*np.pi/pdot_atnfi/u.s**2)\n",
    "\n",
    "fatnfc=2*np.pi/period_atnfi/u.s\n",
    "t=np.linspace(0*u.s,age_pwni.to(u.s),100)\n",
    "tau0atnf=(6*I*c.c.cgs**3)/(Bp**2*a**6*np.sin(theta)**2*fatnfc**2)\n",
    "edot_pwn=(2/(3*c.c.cgs**3))*(Bp**2*(a**6)/4)*((np.sin(theta)**2*fatnfc**4)/(1+2*t/tau0atnf)**2)\n",
    "edot_pwn=edot_pwn.to(u.erg/u.s)\n",
    "print(Edotjager.to(u.erg/u.s),edot_pwn)"
   ]
  },
  {
   "cell_type": "code",
   "execution_count": 15,
   "id": "37808080",
   "metadata": {},
   "outputs": [
    {
     "name": "stdout",
     "output_type": "stream",
     "text": [
      "[nan, nan, 1083.2479935483686, 884.3027300933281, 802.3430954766742, 374.2271834608023, 129.50054480966807, 64.12450019249901, 1029.9776687543892, 172.74052511898918, 98.38115780364375, 106.67209018088776, 109.21976361751237, 71.77424772000998, 267.71762110165344, 63.93108785390081, nan, 1880.3540587144919, nan, nan, 316.32811121313426, 303.8542024535956, nan, 80.07186103947491, 351.370155975953, 351.370155975953, 88.92592693474771, 57.09913124648884, 41.58512540465683, 41.58512540465683, 84.91253538767081, 26.1414631709942, nan, 12.798153883397681, 6.073675112350931, 5.204706936908151, 5.204706936908151, 7.611115944600587, nan, nan, nan, nan, nan, nan, nan, nan, nan, nan] [nan, nan, -33500.754544307936, 4735.849791319336, 942.2682388627112, 466.68771768119115, 520.8997278639362, -123.30109410746151, 1060.5998722318304, 339.4169478392806, 365.0134823688631, 160.5950111852821, 128.8311602479092, 120.74438582969951, 273.4916619639583, 73.3386635537865, nan, 83095.21691335383, nan, nan, 1120.375908112982, 439.3536752941735, nan, 196.63315095455374, 386.6518889152729, 386.6518889152729, 147.15565086117775, 90.66803766175238, 65.66362740425772, 65.66362740425772, 112.08710789028335, 62.79572023710303, nan, 40.92072187379628, 12.130448904117015, 11.871517605405696, 11.871517605405696, 9.915116822278138, nan, nan, nan, nan, nan, nan, nan, nan, nan, nan]\n",
      "PearsonRResult(statistic=0.8324095761488852, pvalue=6.398619919660232e-09)\n",
      "PearsonRResult(statistic=0.2142122919624177, pvalue=0.24720507074333659)\n"
     ]
    },
    {
     "data": {
      "text/plain": [
       "<Figure size 2000x600 with 0 Axes>"
      ]
     },
     "metadata": {},
     "output_type": "display_data"
    },
    {
     "data": {
      "image/png": "[encoded data removed]",
      "text/plain": [
       "<Figure size 640x480 with 2 Axes>"
      ]
     },
     "metadata": {},
     "output_type": "display_data"
    }
   ],
   "source": [
    "from scipy.stats import pearsonr\n",
    "\n",
    "plt.figure(figsize=(20,6))\n",
    "lines = [(0, (1, 3)),\"-\",\"--\",\"-.\",\":\"]\n",
    "linecycler = cycle(lines)\n",
    "#Now plot how the pair-production multiplicity varies with P0. \n",
    "color = cm.cividis(np.linspace(0, 1, len(df)))\n",
    "#Only first 10 in df, as len(df) is a crowded plot\n",
    "fig,axs=plt.subplots(1,2)\n",
    "edots=[]\n",
    "minkappas=[]\n",
    "maxkappas=[]\n",
    "for i in range(len(df)):\n",
    "    \n",
    "    tau_p0 = age_p0(period_atnf[i],pdot_atnf[i],test_p0)\n",
    "    ngj_p0 = calc_ngj(edot[i],tau_p0)\n",
    "    k_p0 = Nel[i] / (2.*ngj_p0)\n",
    "    mask = test_p0 < period_atnf[i]*u.s\n",
    "    minkappa=k_p0[np.abs(test_p0.value-0.01).argmin()]\n",
    "    maxkappa=k_p0[np.abs(test_p0.value-0.05).argmin()]\n",
    "    axs[0].scatter(edot[i],minkappa)\n",
    "    axs[1].scatter(edot[i],maxkappa)\n",
    "    edots.append(edot[i].value)\n",
    "    minkappas.append(minkappa)\n",
    "    maxkappas.append(maxkappa)\n",
    "\n",
    "axs[0].loglog()\n",
    "axs[1].loglog()\n",
    "axs[0].set_ylabel(r\"Min $\\langle\\kappa\\rangle$ [Dimensionless]\",fontsize=12)\n",
    "axs[0].set_xlabel(\"Edot [erg/s]\",fontsize=12)\n",
    "axs[1].set_ylabel(r\"Max $\\langle\\kappa\\rangle$ [Dimensionless]\",fontsize=12)\n",
    "axs[1].set_xlabel(r\"$\\dot{E}$ [erg/s]\",fontsize=12)\n",
    "plt.tight_layout()\n",
    "print(minkappas,maxkappas)\n",
    "print(pearsonr(np.asarray(edots)[~np.isnan(minkappas)],np.asarray(minkappas)[~np.isnan(minkappas)]))\n",
    "print(pearsonr(np.asarray(edots)[~np.isnan(maxkappas)],np.asarray(maxkappas)[~np.isnan(maxkappas)]))\n",
    "plt.savefig('kappaplotdiff.png',dpi=300)"
   ]
  },
  {
   "cell_type": "code",
   "execution_count": 16,
   "id": "2faf204f-6016-4cdd-a333-6ee9ad0cf10c",
   "metadata": {},
   "outputs": [
    {
     "name": "stdout",
     "output_type": "stream",
     "text": [
      "[ 884.30273009  802.34309548  374.22718346  129.50054481 1029.97766875\n",
      "  172.74052512   98.3811578   106.67209018  109.21976362   71.77424772\n",
      "  267.7176211    63.93108785 1880.35405871  316.32811121  303.85420245\n",
      "   80.07186104  351.37015598  351.37015598   88.92592693   57.09913125\n",
      "   41.5851254    41.5851254    84.91253539   26.14146317   12.79815388\n",
      "    6.07367511    5.20470694    5.20470694    7.61111594] [4.73584979e+03 9.42268239e+02 4.66687718e+02 5.20899728e+02\n",
      " 1.06059987e+03 3.39416948e+02 3.65013482e+02 1.60595011e+02\n",
      " 1.28831160e+02 1.20744386e+02 2.73491662e+02 7.33386636e+01\n",
      " 8.30952169e+04 1.12037591e+03 4.39353675e+02 1.96633151e+02\n",
      " 3.86651889e+02 3.86651889e+02 1.47155651e+02 9.06680377e+01\n",
      " 6.56636274e+01 6.56636274e+01 1.12087108e+02 6.27957202e+01\n",
      " 4.09207219e+01 1.21304489e+01 1.18715176e+01 1.18715176e+01\n",
      " 9.91511682e+00]\n",
      "29\n"
     ]
    },
    {
     "data": {
      "image/png": "[encoded data removed]",
      "text/plain": [
       "<Figure size 1000x500 with 1 Axes>"
      ]
     },
     "metadata": {},
     "output_type": "display_data"
    }
   ],
   "source": [
    "from itertools import cycle, islice\n",
    "fig=plt.figure(figsize=(10,5))\n",
    "\n",
    "def repeatlist(it, count):\n",
    "    return islice(cycle(it), count)\n",
    "\n",
    "#Filter out nan minkappas\n",
    "truelocs=~np.isnan(minkappas)\n",
    "minkappas=np.asarray(minkappas)[truelocs]\n",
    "maxkappas=np.asarray(maxkappas)[truelocs]\n",
    "edots=np.asarray(edots)[truelocs]\n",
    "atnf_names=np.asarray(atnf_names)[truelocs]\n",
    "#Filter out negative maxkappas\n",
    "maxlocs=np.where(maxkappas>0)\n",
    "minkappas=minkappas[maxlocs]\n",
    "maxkappas=maxkappas[maxlocs]\n",
    "edots=edots[maxlocs]\n",
    "atnf_names=atnf_names[maxlocs]\n",
    "\n",
    "print(minkappas,maxkappas)\n",
    "ax=plt.gca()\n",
    "prop_cycle = plt.rcParams['axes.prop_cycle']\n",
    "color = repeatlist(prop_cycle.by_key()['color'],count=100)\n",
    "\n",
    "for i in np.arange(len(edots)):\n",
    "    plt.vlines(edots[i],minkappas[i],maxkappas[i],linewidths=5)\n",
    "    #plt.text(edots[i],1e5,atnf_names[i],rotation=90)\n",
    "plt.axhline(y=2*c.m_p/c.m_e,color='k',linestyle=':',label='$2m_p/m_e$')\n",
    "print(len(minkappas))\n",
    "plt.loglog()\n",
    "plt.ylabel(r\"$\\langle\\kappa\\rangle$ [Dimensionless]\")\n",
    "plt.ylim(1,1e7)\n",
    "plt.xlabel(r\"$\\dot{E}_t$ [erg/s]\")\n",
    "plt.legend(loc='upper left')\n",
    "plt.tight_layout()\n",
    "plt.savefig('kapparange.png',dpi=300)"
   ]
  },
  {
   "cell_type": "code",
   "execution_count": 17,
   "id": "4887a4be-9743-4f2b-abea-8be908303153",
   "metadata": {},
   "outputs": [
    {
     "name": "stdout",
     "output_type": "stream",
     "text": [
      "[3.39e+37 1.70e+37 1.20e+37 1.00e+37 8.13e+36 6.92e+36 5.50e+36 4.90e+36\n",
      " 3.09e+36 2.82e+36 2.29e+36 1.70e+36 4.27e+37 1.58e+37 1.10e+37 4.57e+36\n",
      " 4.37e+36 4.37e+36 3.39e+36 2.82e+36 2.57e+36 2.57e+36 2.19e+36 1.82e+36\n",
      " 1.29e+36 8.32e+35 5.75e+35 5.75e+35 4.47e+35]\n",
      "    Atnf_names Edots times 10^36     minkappa      maxkappa\n",
      "0   J1833-1034              33.9   884.302730   4735.849791\n",
      "1   J1513-5908              17.0   802.343095    942.268239\n",
      "2   J1930+1852              12.0   374.227183    466.687718\n",
      "3   J1420-6048              10.0   129.500545    520.899728\n",
      "4   J1846-0258              8.13  1029.977669   1060.599872\n",
      "5   J0835-4510              6.92   172.740525    339.416948\n",
      "6   J1838-0655               5.5    98.381158    365.013482\n",
      "7   J1418-6058               4.9   106.672090    160.595011\n",
      "8   J1357-6429              3.09   109.219764    128.831160\n",
      "9   J1826-1334              2.82    71.774248    120.744386\n",
      "10  J1119-6127              2.29   267.717621    273.491662\n",
      "11  J1301-6305               1.7    63.931088     73.338664\n",
      "12  J1747-2809              42.7  1880.354059  83095.216913\n",
      "13  J1617-5055              15.8   316.328111   1120.375908\n",
      "14  J1023-5746              11.0   303.854202    439.353675\n",
      "15  J1856+0245              4.57    80.071861    196.633151\n",
      "16  J1640-4631              4.37   351.370156    386.651889\n",
      "17  J1640-4631              4.37   351.370156    386.651889\n",
      "18  J1709-4429              3.39    88.925927    147.155651\n",
      "19  J1907+0602              2.82    57.099131     90.668038\n",
      "20  J1016-5857              2.57    41.585125     65.663627\n",
      "21  J1016-5857              2.57    41.585125     65.663627\n",
      "22  J1803-2137              2.19    84.912535    112.087108\n",
      "23  J1809-1917              1.82    26.141463     62.795720\n",
      "24  J1718-3825              1.29    12.798154     40.920722\n",
      "25  J1028-5819             0.832     6.073675     12.130449\n",
      "26  J1833-0827             0.575     5.204707     11.871518\n",
      "27  J1833-0827             0.575     5.204707     11.871518\n",
      "28  J1857+0143             0.447     7.611116      9.915117\n"
     ]
    }
   ],
   "source": [
    "print(edots)\n",
    "df = pd.DataFrame(columns=['Atnf_names', 'Edots times 10^36', 'minkappa','maxkappa'])\n",
    "df['Atnf_names']=atnf_names\n",
    "df['Edots times 10^36']=edots/10**36\n",
    "df['minkappa']=minkappas\n",
    "df['maxkappa']=maxkappas\n",
    "\n",
    "\n",
    "print(df)"
   ]
  },
  {
   "cell_type": "code",
   "execution_count": 18,
   "id": "35ab5431-b418-417d-b1e6-ff7ac1615327",
   "metadata": {
    "tags": []
   },
   "outputs": [
    {
     "name": "stdout",
     "output_type": "stream",
     "text": [
      "\\begin{tabular}{llrr}\n",
      "\\toprule\n",
      "Atnf_names & Edots times 10^36 & minkappa & maxkappa \\\\\n",
      "\\midrule\n",
      "J1833-1034 & 33.900000 & 884 & 4736 \\\\\n",
      "J1513-5908 & 17.000000 & 802 & 942 \\\\\n",
      "J1930+1852 & 12.000000 & 374 & 467 \\\\\n",
      "J1420-6048 & 10.000000 & 130 & 521 \\\\\n",
      "J1846-0258 & 8.130000 & 1030 & 1061 \\\\\n",
      "J0835-4510 & 6.920000 & 173 & 339 \\\\\n",
      "J1838-0655 & 5.500000 & 98 & 365 \\\\\n",
      "J1418-6058 & 4.900000 & 107 & 161 \\\\\n",
      "J1357-6429 & 3.090000 & 109 & 129 \\\\\n",
      "J1826-1334 & 2.820000 & 72 & 121 \\\\\n",
      "J1119-6127 & 2.290000 & 268 & 273 \\\\\n",
      "J1301-6305 & 1.700000 & 64 & 73 \\\\\n",
      "J1747-2809 & 42.700000 & 1880 & 83095 \\\\\n",
      "J1617-5055 & 15.800000 & 316 & 1120 \\\\\n",
      "J1023-5746 & 11.000000 & 304 & 439 \\\\\n",
      "J1856+0245 & 4.570000 & 80 & 197 \\\\\n",
      "J1640-4631 & 4.370000 & 351 & 387 \\\\\n",
      "J1640-4631 & 4.370000 & 351 & 387 \\\\\n",
      "J1709-4429 & 3.390000 & 89 & 147 \\\\\n",
      "J1907+0602 & 2.820000 & 57 & 91 \\\\\n",
      "J1016-5857 & 2.570000 & 42 & 66 \\\\\n",
      "J1016-5857 & 2.570000 & 42 & 66 \\\\\n",
      "J1803-2137 & 2.190000 & 85 & 112 \\\\\n",
      "J1809-1917 & 1.820000 & 26 & 63 \\\\\n",
      "J1718-3825 & 1.290000 & 13 & 41 \\\\\n",
      "J1028-5819 & 0.832000 & 6 & 12 \\\\\n",
      "J1833-0827 & 0.575000 & 5 & 12 \\\\\n",
      "J1833-0827 & 0.575000 & 5 & 12 \\\\\n",
      "J1857+0143 & 0.447000 & 8 & 10 \\\\\n",
      "\\bottomrule\n",
      "\\end{tabular}\n",
      "\n"
     ]
    }
   ],
   "source": [
    "print(df.to_latex(index=False,\n",
    "                  formatters={\"name\": str.upper},\n",
    "                  float_format=\"{:.0f}\".format,))  "
   ]
  },
  {
   "cell_type": "code",
   "execution_count": null,
   "id": "ad3d8406-0265-4df3-94a6-5d5ba5ac4adb",
   "metadata": {},
   "outputs": [],
   "source": []
  }
 ],
 "metadata": {
  "kernelspec": {
   "display_name": "Python 3 (ipykernel)",
   "language": "python",
   "name": "python3"
  },
  "language_info": {
   "codemirror_mode": {
    "name": "ipython",
    "version": 3
   },
   "file_extension": ".py",
   "mimetype": "text/x-python",
   "name": "python",
   "nbconvert_exporter": "python",
   "pygments_lexer": "ipython3",
   "version": "3.10.13"
  }
 },
 "nbformat": 4,
 "nbformat_minor": 5
}
