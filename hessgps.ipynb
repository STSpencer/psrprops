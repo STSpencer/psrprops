{
 "cells": [
  {
   "cell_type": "code",
   "execution_count": 8,
   "id": "ddcf8a7e-ad24-4908-8303-b3314ef21e08",
   "metadata": {
    "tags": []
   },
   "outputs": [],
   "source": [
    "import astropy.io.fits as fits\n",
    "from astropy.table import Table\n"
   ]
  },
  {
   "cell_type": "code",
   "execution_count": 2,
   "id": "a6ec6a2a-2598-4d0d-95ef-31f5adf8b51f",
   "metadata": {
    "tags": []
   },
   "outputs": [],
   "source": [
    "tab=fits.open('hgps-catalog-v1.fits')"
   ]
  },
  {
   "cell_type": "code",
   "execution_count": 3,
   "id": "598358b4-16d4-4a96-8089-9dfa40955682",
   "metadata": {
    "tags": []
   },
   "outputs": [
    {
     "name": "stdout",
     "output_type": "stream",
     "text": [
      "[<astropy.io.fits.hdu.image.PrimaryHDU object at 0x7fabc833b640>, <astropy.io.fits.hdu.table.BinTableHDU object at 0x7fabc833ba90>, <astropy.io.fits.hdu.table.BinTableHDU object at 0x7fabc833baf0>, <astropy.io.fits.hdu.table.BinTableHDU object at 0x7fabc833bee0>, <astropy.io.fits.hdu.table.BinTableHDU object at 0x7fabc833bd30>, <astropy.io.fits.hdu.table.BinTableHDU object at 0x7fabc833b430>, <astropy.io.fits.hdu.table.BinTableHDU object at 0x7fabc8370160>]\n"
     ]
    }
   ],
   "source": [
    "print(tab)"
   ]
  },
  {
   "cell_type": "code",
   "execution_count": 9,
   "id": "1a7fc69d-f5b5-4e9d-834a-494f2bed80ac",
   "metadata": {
    "tags": []
   },
   "outputs": [],
   "source": [
    "x=Table(tab[1].data)"
   ]
  },
  {
   "cell_type": "code",
   "execution_count": 15,
   "id": "79f8534e-a07a-4fcc-9a2c-1411c7b63dce",
   "metadata": {
    "tags": []
   },
   "outputs": [
    {
     "name": "stdout",
     "output_type": "stream",
     "text": [
      "  Source_Name    Energy_Threshold\n",
      "---------------- ----------------\n",
      "  HESS J0835-455       0.47003648\n",
      "  HESS J0852-463              nan\n",
      "HESS J1018-589 A        0.7565276\n",
      "HESS J1018-589 B        0.7565276\n",
      "  HESS J1023-575       0.74256396\n",
      "  HESS J1026-582        0.7441141\n",
      "  HESS J1119-614        0.6826137\n",
      "  HESS J1302-638        0.6942568\n",
      "  HESS J1303-631        0.6942568\n",
      "  HESS J1356-645        0.7844669\n",
      "  HESS J1418-609        0.7585776\n",
      "  HESS J1420-607        0.7585776\n",
      "  HESS J1427-608       0.69283324\n",
      "  HESS J1442-624              nan\n",
      "  HESS J1457-593       0.62058777\n",
      "  HESS J1458-608        0.7165919\n",
      "  HESS J1503-582       0.61032504\n",
      "  HESS J1507-622        0.8128305\n",
      "  HESS J1514-591       0.61032504\n",
      "  HESS J1534-571              nan\n",
      "  HESS J1554-550       0.66813684\n",
      "  HESS J1614-518              nan\n",
      "  HESS J1616-508       0.53285736\n",
      "  HESS J1626-490       0.53285736\n",
      "  HESS J1632-478        0.5017676\n",
      "  HESS J1634-472       0.46910322\n",
      "  HESS J1640-465       0.44283372\n",
      "  HESS J1641-463       0.44283372\n",
      "  HESS J1646-458       0.44058275\n",
      "  HESS J1702-420       0.39677334\n",
      "  HESS J1708-410       0.38941306\n",
      "  HESS J1708-443        0.4282523\n",
      "  HESS J1713-381       0.38941306\n",
      "  HESS J1713-397              nan\n",
      "  HESS J1714-385       0.38941306\n",
      "  HESS J1718-374              nan\n",
      "  HESS J1718-385        0.3912318\n",
      "  HESS J1729-345        0.4017257\n",
      "  HESS J1731-347              nan\n",
      "  HESS J1741-302              nan\n",
      "  HESS J1745-290              nan\n",
      "  HESS J1745-303       0.38021132\n",
      "  HESS J1746-285              nan\n",
      "  HESS J1746-308       0.38021132\n",
      "  HESS J1747-248       0.39489928\n",
      "  HESS J1747-281              nan\n",
      "  HESS J1800-240       0.38560188\n",
      "  HESS J1801-233              nan\n",
      "  HESS J1804-216        0.3830961\n",
      "  HESS J1808-204        0.3830961\n",
      "  HESS J1809-193        0.3830961\n",
      "  HESS J1813-126       0.46773514\n",
      "  HESS J1813-178       0.38742316\n",
      "  HESS J1818-154        0.3942146\n",
      "  HESS J1825-137        0.3962191\n",
      "  HESS J1826-130        0.3962191\n",
      "  HESS J1826-148        0.3942146\n",
      "  HESS J1828-099       0.38751072\n",
      "  HESS J1832-085       0.38763347\n",
      "  HESS J1832-093       0.38751072\n",
      "  HESS J1833-105       0.38751072\n",
      "  HESS J1834-087       0.38763347\n",
      "  HESS J1837-069       0.38841885\n",
      "  HESS J1841-055       0.37889326\n",
      "  HESS J1843-033       0.37889326\n",
      "  HESS J1844-030       0.39546725\n",
      "  HESS J1846-029       0.39546725\n",
      "  HESS J1848-018        0.4600775\n",
      "  HESS J1849-000       0.50073415\n",
      "  HESS J1852-000       0.50073415\n",
      "  HESS J1857+026       0.49199364\n",
      "  HESS J1858+020       0.49199364\n",
      "  HESS J1908+063        0.5872119\n",
      "  HESS J1911+090              nan\n",
      "  HESS J1912+101              nan\n",
      "  HESS J1923+141       0.72980505\n",
      "  HESS J1930+188          0.89365\n",
      "  HESS J1943+213              1.0\n"
     ]
    }
   ],
   "source": [
    "x['Source_Name','Energy_Threshold'].pprint_all() "
   ]
  },
  {
   "cell_type": "code",
   "execution_count": null,
   "id": "135cb8f9-4374-4b53-8c2f-0360e52b1b7d",
   "metadata": {},
   "outputs": [],
   "source": []
  }
 ],
 "metadata": {
  "kernelspec": {
   "display_name": "Python 3 (ipykernel)",
   "language": "python",
   "name": "python3"
  },
  "language_info": {
   "codemirror_mode": {
    "name": "ipython",
    "version": 3
   },
   "file_extension": ".py",
   "mimetype": "text/x-python",
   "name": "python",
   "nbconvert_exporter": "python",
   "pygments_lexer": "ipython3",
   "version": "3.10.13"
  }
 },
 "nbformat": 4,
 "nbformat_minor": 5
}
