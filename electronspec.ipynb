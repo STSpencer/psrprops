{
 "cells": [
  {
   "cell_type": "code",
   "execution_count": 1,
   "id": "03ca5c21-4846-418c-b636-51703e0240f3",
   "metadata": {
    "tags": []
   },
   "outputs": [],
   "source": [
    "import numpy as np\n",
    "import astropy.units as u"
   ]
  },
  {
   "cell_type": "code",
   "execution_count": 2,
   "id": "b9ab2640-fa44-4f94-9410-492d5aebc5c1",
   "metadata": {
    "tags": []
   },
   "outputs": [],
   "source": [
    "psrs=['J1833-1034','J1513-5908','J1930+1852','J1846-0258','J0835-4510','J1747-2809']\n",
    "kappas=[1453.357354050249,809.6894405952792,430.493710456857,1060.5998722318304,173.54049347840333,26620.984742318306]\n",
    "edots=np.asarray([3.38844156139203e37,1.69824365246173e37,1.2022644346174e37,8.12830516164092e36,6.91830970918941e36,4.26579518801595e37])\n",
    "pnows=[0.06188365001063282,0.15158194339345915,0.136855046957,0.3265712883437141,0.0893283850235931,0.052152855]\n",
    "pdots=[2.02014996E-13,1.5286897617091928e-12,7.5057e-13,7.107449727350634e-12,1.2500779277088453e-13,1.5557e-13]*u.s/u.s\n",
    "p0s=[0.032953808907644225,0.015239410525787624,0.04130295131654276,0.0507731171134841,0.010861923156129938,0.04787506158892769]*u.s\n",
    "nel=np.asarray([4.5617898083450285e+48,5.139356514523224e+47,5.05866694755819e+47,1.6232676579837958e+47,1.8657897360372003e+48,1.246558459695207e+49])\n",
    "dists=np.asarray([4.1,4.4,7.0,5.8,0.28,13.3])*u.kpc"
   ]
  },
  {
   "cell_type": "code",
   "execution_count": 3,
   "id": "8b2e9428-1cd3-4f78-8483-2d618a83ce64",
   "metadata": {
    "tags": []
   },
   "outputs": [
    {
     "name": "stdout",
     "output_type": "stream",
     "text": [
      "[2.15952230e+46 2.11248449e+45 8.21542704e+44 3.83993864e+44\n",
      " 1.89381160e+48 5.60789023e+45] 1 / kpc2\n"
     ]
    }
   ],
   "source": [
    "print(nel/(4*np.pi*dists**2))"
   ]
  },
  {
   "cell_type": "code",
   "execution_count": 4,
   "id": "d3046da1-a96a-451b-8672-7daba6dd2c7f",
   "metadata": {
    "tags": []
   },
   "outputs": [],
   "source": [
    "def age_p0(psr_period,psr_pdot,p0=0.01*u.s,n=3):\n",
    "    \n",
    "    brk = n-1\n",
    "    argp = p0/(psr_period*u.s)\n",
    "    tau_age = 1. - argp**brk\n",
    "    tau_age *= (psr_period*u.s)/(brk*psr_pdot)\n",
    "    return tau_age.to(u.yr)"
   ]
  },
  {
   "cell_type": "code",
   "execution_count": 5,
   "id": "ff4cacd4-0f76-4a9e-a53b-000f9eb4b8cb",
   "metadata": {
    "tags": []
   },
   "outputs": [],
   "source": [
    "ages=age_p0(pnows,pdots,p0s)"
   ]
  },
  {
   "cell_type": "code",
   "execution_count": 7,
   "id": "0b67f1cb-b487-484e-8d21-9220577c2e17",
   "metadata": {
    "tags": []
   },
   "outputs": [
    {
     "name": "stdout",
     "output_type": "stream",
     "text": [
      "[3.28957887e-05 7.19492703e-06 1.65724096e-06 2.86309541e-06\n",
      " 8.99295865e-04 3.55476954e-05] 1 / (s sr m2)\n"
     ]
    }
   ],
   "source": [
    "flux=nel/(4*np.pi*dists**2*ages*2*np.pi*u.steradian)\n",
    "print(flux.to(1/u.m**2/u.s/u.sr))"
   ]
  },
  {
   "cell_type": "code",
   "execution_count": null,
   "id": "800d98b6-f75f-49a1-9a9b-ba87cc4b383a",
   "metadata": {},
   "outputs": [],
   "source": []
  },
  {
   "cell_type": "code",
   "execution_count": null,
   "id": "a909b30c-a4b0-4f86-836f-44b9ce707f8e",
   "metadata": {},
   "outputs": [],
   "source": []
  }
 ],
 "metadata": {
  "kernelspec": {
   "display_name": "Python 3 (ipykernel)",
   "language": "python",
   "name": "python3"
  },
  "language_info": {
   "codemirror_mode": {
    "name": "ipython",
    "version": 3
   },
   "file_extension": ".py",
   "mimetype": "text/x-python",
   "name": "python",
   "nbconvert_exporter": "python",
   "pygments_lexer": "ipython3",
   "version": "3.10.13"
  }
 },
 "nbformat": 4,
 "nbformat_minor": 5
}
